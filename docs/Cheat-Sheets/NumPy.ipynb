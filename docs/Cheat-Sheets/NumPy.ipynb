{
  "cells": [
    {
      "cell_type": "markdown",
      "metadata": {},
      "source": [
        "<!--\n",
        "---\n",
        "title: NumPy (Cheat Sheet)\n",
        "description: A cheat sheet of NumPy (The fundamental package for scientific computing with Python). Specifically made for data science interviews\n",
        "-->\n",
        "# NumPy\n",
        "\n",
        "<a href=\"https://colab.research.google.com/github/singhsidhukuldeep/singhsidhukuldeep.github.io/blob/master/docs/Cheat-Sheets/NumPy.ipynb\" target=\"_blank\"><img src=\"https://colab.research.google.com/assets/colab-badge.svg\" alt=\"Open In Colab\"></a>\n",
        "\n",
        "<!-- [TOC] -->\n",
        "\n",
        "NumPy, which stands for Numerical Python, is a free, open-source Python library for working with arrays. It's one of the most popular packages for scientific computing in Python, and is used for data manipulation and analysis, including data cleaning, transformation, and aggregation.\n",
        "\n",
        "- Official Website: https://numpy.org/\n",
        "- Installation:  (https://numpy.org/install/)\n",
        "    ```shell\n",
        "    pip install numpy\n",
        "    ```\n",
        "- Documentation: https://numpy.org/doc\n",
        "- GitHub: https://github.com/numpy/numpy"
      ]
    },
    {
      "cell_type": "markdown",
      "metadata": {
        "id": "vgEe9eC5NvdO"
      },
      "source": [
        "## Basics"
      ]
    },
    {
      "cell_type": "code",
      "execution_count": 1,
      "metadata": {
        "colab": {
          "base_uri": "https://localhost:8080/",
          "height": 35
        },
        "id": "9sdEkXdGNvdP",
        "outputId": "6ac26ae8-f985-477f-f30f-05f535157676"
      },
      "outputs": [
        {
          "data": {
            "application/vnd.google.colaboratory.intrinsic+json": {
              "type": "string"
            },
            "text/plain": [
              "'1.26.4'"
            ]
          },
          "execution_count": 1,
          "metadata": {},
          "output_type": "execute_result"
        }
      ],
      "source": [
        "import numpy as np  # Importing NumPy\n",
        "np.__version__  # Check version of NumPy"
      ]
    },
    {
      "cell_type": "markdown",
      "metadata": {
        "id": "iAjFSMp0NvdP"
      },
      "source": [
        "## Array Creation\n"
      ]
    },
    {
      "cell_type": "markdown",
      "metadata": {
        "id": "o7ESmq0SOU00"
      },
      "source": [
        "### From Lists, Tuples, and Buffers"
      ]
    },
    {
      "cell_type": "code",
      "execution_count": 2,
      "metadata": {
        "colab": {
          "base_uri": "https://localhost:8080/"
        },
        "id": "KgcqzZnQNvdP",
        "outputId": "cd243cd0-ccd1-4456-cd65-a029523794ac"
      },
      "outputs": [
        {
          "data": {
            "text/plain": [
              "array([1, 2, 3])"
            ]
          },
          "execution_count": 2,
          "metadata": {},
          "output_type": "execute_result"
        }
      ],
      "source": [
        "arr1 = np.array([1, 2, 3])\n",
        "arr1"
      ]
    },
    {
      "cell_type": "code",
      "execution_count": 3,
      "metadata": {
        "colab": {
          "base_uri": "https://localhost:8080/"
        },
        "id": "FS0OV-3vNvdP",
        "outputId": "436d7413-c4f6-4781-eafe-d69060e62265"
      },
      "outputs": [
        {
          "data": {
            "text/plain": [
              "array([1, 2, 3])"
            ]
          },
          "execution_count": 3,
          "metadata": {},
          "output_type": "execute_result"
        }
      ],
      "source": [
        "arr2 = np.array((1, 2, 3))\n",
        "arr2"
      ]
    },
    {
      "cell_type": "code",
      "execution_count": 4,
      "metadata": {
        "colab": {
          "base_uri": "https://localhost:8080/"
        },
        "id": "eHCFxvxENvdP",
        "outputId": "ea4244b3-38b6-4a41-b5e0-9174710fb3b2"
      },
      "outputs": [
        {
          "data": {
            "text/plain": [
              "array([b'H', b'e', b'l', b'l', b'o', b' ', b'W', b'o', b'r', b'l', b'd'],\n",
              "      dtype='|S1')"
            ]
          },
          "execution_count": 4,
          "metadata": {},
          "output_type": "execute_result"
        }
      ],
      "source": [
        "arr3 = np.frombuffer(b'Hello World', dtype='S1')\n",
        "arr3"
      ]
    },
    {
      "cell_type": "markdown",
      "metadata": {
        "id": "e7CLCH3CNvdP"
      },
      "source": [
        "### Zeros, Ones, and Empty Arrays"
      ]
    },
    {
      "cell_type": "code",
      "execution_count": 5,
      "metadata": {
        "colab": {
          "base_uri": "https://localhost:8080/"
        },
        "id": "yE0pIZ5FNvdP",
        "outputId": "6bb88779-1b1e-4f0c-990c-817cddaa80de"
      },
      "outputs": [
        {
          "data": {
            "text/plain": [
              "array([[0., 0., 0.],\n",
              "       [0., 0., 0.]])"
            ]
          },
          "execution_count": 5,
          "metadata": {},
          "output_type": "execute_result"
        }
      ],
      "source": [
        "arr_zeros = np.zeros((2, 3))  # 2x3 array of zeros\n",
        "arr_zeros"
      ]
    },
    {
      "cell_type": "code",
      "execution_count": 6,
      "metadata": {
        "colab": {
          "base_uri": "https://localhost:8080/"
        },
        "id": "6N1qWDHaNvdP",
        "outputId": "fdd80efa-4a30-4d30-b272-5aa0ede99b65"
      },
      "outputs": [
        {
          "data": {
            "text/plain": [
              "array([[1., 1., 1.],\n",
              "       [1., 1., 1.]])"
            ]
          },
          "execution_count": 6,
          "metadata": {},
          "output_type": "execute_result"
        }
      ],
      "source": [
        "arr_ones = np.ones((2, 3))  # 2x3 array of ones\n",
        "arr_ones"
      ]
    },
    {
      "cell_type": "code",
      "execution_count": 7,
      "metadata": {
        "colab": {
          "base_uri": "https://localhost:8080/"
        },
        "id": "B11_Kp74NvdQ",
        "outputId": "b50b6567-f102-4a2e-fa71-abbd641fe2d6"
      },
      "outputs": [
        {
          "data": {
            "text/plain": [
              "array([[1., 1., 1.],\n",
              "       [1., 1., 1.]])"
            ]
          },
          "execution_count": 7,
          "metadata": {},
          "output_type": "execute_result"
        }
      ],
      "source": [
        "arr_empty = np.empty((2, 3))  # 2x3 empty array\n",
        "arr_empty"
      ]
    },
    {
      "cell_type": "markdown",
      "metadata": {
        "id": "x634ZriXNvdQ"
      },
      "source": [
        "### Ranges and Random Numbers"
      ]
    },
    {
      "cell_type": "code",
      "execution_count": 8,
      "metadata": {
        "colab": {
          "base_uri": "https://localhost:8080/"
        },
        "id": "KesvuosmNvdQ",
        "outputId": "44fb74ed-f768-4908-9309-16e550dd115f"
      },
      "outputs": [
        {
          "data": {
            "text/plain": [
              "array([0, 2, 4, 6, 8])"
            ]
          },
          "execution_count": 8,
          "metadata": {},
          "output_type": "execute_result"
        }
      ],
      "source": [
        "arr_range = np.arange(0, 10, 2)  # Array from 0 to 9 with step 2\n",
        "arr_range"
      ]
    },
    {
      "cell_type": "code",
      "execution_count": 9,
      "metadata": {
        "colab": {
          "base_uri": "https://localhost:8080/"
        },
        "id": "THtAe6qWNvdQ",
        "outputId": "f220d6ea-1d8a-4707-fdd1-368676453980"
      },
      "outputs": [
        {
          "data": {
            "text/plain": [
              "array([0.  , 0.25, 0.5 , 0.75, 1.  ])"
            ]
          },
          "execution_count": 9,
          "metadata": {},
          "output_type": "execute_result"
        }
      ],
      "source": [
        "arr_linspace = np.linspace(0, 1, 5)  # 5 equally spaced numbers from 0 to 1\n",
        "arr_linspace"
      ]
    },
    {
      "cell_type": "code",
      "execution_count": 10,
      "metadata": {
        "colab": {
          "base_uri": "https://localhost:8080/"
        },
        "id": "EV4ZdHFfNvdQ",
        "outputId": "95b40538-b19e-4b86-e1c4-066ae3598bd4"
      },
      "outputs": [
        {
          "data": {
            "text/plain": [
              "array([[0.78160058, 0.52687888, 0.29604995],\n",
              "       [0.63947724, 0.99231115, 0.3488577 ]])"
            ]
          },
          "execution_count": 10,
          "metadata": {},
          "output_type": "execute_result"
        }
      ],
      "source": [
        "arr_random = np.random.rand(2, 3)  # 2x3 array with random numbers between 0 and 1\n",
        "arr_random"
      ]
    },
    {
      "cell_type": "markdown",
      "metadata": {
        "id": "M_Deg8zdNvdQ"
      },
      "source": [
        "### Identity and Diagonal Matrices"
      ]
    },
    {
      "cell_type": "code",
      "execution_count": 11,
      "metadata": {
        "colab": {
          "base_uri": "https://localhost:8080/"
        },
        "id": "QElSlukqNvdQ",
        "outputId": "63bf0bbc-2c3c-466c-da87-896a1075e1a4"
      },
      "outputs": [
        {
          "data": {
            "text/plain": [
              "array([[1., 0., 0.],\n",
              "       [0., 1., 0.],\n",
              "       [0., 0., 1.]])"
            ]
          },
          "execution_count": 11,
          "metadata": {},
          "output_type": "execute_result"
        }
      ],
      "source": [
        "arr_identity = np.eye(3)  # 3x3 identity matrix\n",
        "arr_identity"
      ]
    },
    {
      "cell_type": "code",
      "execution_count": 12,
      "metadata": {
        "colab": {
          "base_uri": "https://localhost:8080/"
        },
        "id": "BpNZ22jHNvdQ",
        "outputId": "6f8545a7-952c-4326-f76e-2dabafbf09d6"
      },
      "outputs": [
        {
          "data": {
            "text/plain": [
              "array([[1, 0, 0],\n",
              "       [0, 2, 0],\n",
              "       [0, 0, 3]])"
            ]
          },
          "execution_count": 12,
          "metadata": {},
          "output_type": "execute_result"
        }
      ],
      "source": [
        "arr_diag = np.diag([1, 2, 3])  # Diagonal matrix from a list\n",
        "arr_diag"
      ]
    },
    {
      "cell_type": "markdown",
      "metadata": {
        "id": "DiMKddfKNvdQ"
      },
      "source": [
        "### Structured Arrays"
      ]
    },
    {
      "cell_type": "code",
      "execution_count": 13,
      "metadata": {
        "colab": {
          "base_uri": "https://localhost:8080/"
        },
        "id": "U3VMfpxQNvdQ",
        "outputId": "7a7c3901-db00-4934-af67-9c73723e01fd"
      },
      "outputs": [
        {
          "data": {
            "text/plain": [
              "array([(21, 'Alice'), (25, 'Bob')],\n",
              "      dtype=[('age', '<i4'), ('name', '<U10')])"
            ]
          },
          "execution_count": 13,
          "metadata": {},
          "output_type": "execute_result"
        }
      ],
      "source": [
        "dt = np.dtype([('age', np.int32), ('name', np.str_, 10)])\n",
        "arr_structured = np.array([(21, 'Alice'), (25, 'Bob')], dtype=dt)\n",
        "arr_structured"
      ]
    },
    {
      "cell_type": "markdown",
      "metadata": {
        "id": "nRjco9xpNvdQ"
      },
      "source": [
        "### Using `np.full` and `np.tile`"
      ]
    },
    {
      "cell_type": "code",
      "execution_count": 14,
      "metadata": {
        "colab": {
          "base_uri": "https://localhost:8080/"
        },
        "id": "wNcR363rNvdQ",
        "outputId": "35fdb8ad-0e6e-4c44-eacb-b88a7bdc72aa"
      },
      "outputs": [
        {
          "data": {
            "text/plain": [
              "array([[7, 7, 7],\n",
              "       [7, 7, 7]])"
            ]
          },
          "execution_count": 14,
          "metadata": {},
          "output_type": "execute_result"
        }
      ],
      "source": [
        "arr_full = np.full((2, 3), 7)  # Create a 2x3 array filled with the value 7\n",
        "arr_full"
      ]
    },
    {
      "cell_type": "code",
      "execution_count": 15,
      "metadata": {
        "colab": {
          "base_uri": "https://localhost:8080/"
        },
        "id": "bacO4WodNvdQ",
        "outputId": "d2a05aae-fb09-47f3-b9d5-e76dfa9c1007"
      },
      "outputs": [
        {
          "data": {
            "text/plain": [
              "array([[1, 2, 1, 2, 1, 2],\n",
              "       [1, 2, 1, 2, 1, 2]])"
            ]
          },
          "execution_count": 15,
          "metadata": {},
          "output_type": "execute_result"
        }
      ],
      "source": [
        "arr_tile = np.tile([1, 2], (2, 3))  # Repeat [1, 2] in a 2x3 grid\n",
        "arr_tile"
      ]
    },
    {
      "cell_type": "markdown",
      "metadata": {
        "id": "pXYzahPeNvdQ"
      },
      "source": [
        "## Array Inspection\n"
      ]
    },
    {
      "cell_type": "markdown",
      "metadata": {
        "id": "IJ4A_jL5OYrJ"
      },
      "source": [
        "### Shape and Size"
      ]
    },
    {
      "cell_type": "code",
      "execution_count": 16,
      "metadata": {
        "colab": {
          "base_uri": "https://localhost:8080/"
        },
        "id": "M1HQgvSWNvdQ",
        "outputId": "a70e6b9c-fb82-4a20-d88a-fcd225f3a9a3"
      },
      "outputs": [
        {
          "data": {
            "text/plain": [
              "(3,)"
            ]
          },
          "execution_count": 16,
          "metadata": {},
          "output_type": "execute_result"
        }
      ],
      "source": [
        "arr1.shape  # Dimensions of the array"
      ]
    },
    {
      "cell_type": "code",
      "execution_count": 17,
      "metadata": {
        "colab": {
          "base_uri": "https://localhost:8080/"
        },
        "id": "7GE2cH7uNvdQ",
        "outputId": "450323e8-7e57-463e-fa74-2147d1dc4ba8"
      },
      "outputs": [
        {
          "data": {
            "text/plain": [
              "3"
            ]
          },
          "execution_count": 17,
          "metadata": {},
          "output_type": "execute_result"
        }
      ],
      "source": [
        "arr1.size  # Total number of elements"
      ]
    },
    {
      "cell_type": "code",
      "execution_count": 18,
      "metadata": {
        "colab": {
          "base_uri": "https://localhost:8080/"
        },
        "id": "IL2M_XhaNvdQ",
        "outputId": "1589de19-61bb-4794-b0ef-a45a0cdc3f1b"
      },
      "outputs": [
        {
          "data": {
            "text/plain": [
              "1"
            ]
          },
          "execution_count": 18,
          "metadata": {},
          "output_type": "execute_result"
        }
      ],
      "source": [
        "arr1.ndim  # Number of dimensions"
      ]
    },
    {
      "cell_type": "markdown",
      "metadata": {
        "id": "FTI3H3WjNvdQ"
      },
      "source": [
        "### Data Type"
      ]
    },
    {
      "cell_type": "code",
      "execution_count": 19,
      "metadata": {
        "colab": {
          "base_uri": "https://localhost:8080/"
        },
        "id": "ZOrSUDh5NvdQ",
        "outputId": "27d19e60-f250-42b8-a12d-0e192ad27fbe"
      },
      "outputs": [
        {
          "data": {
            "text/plain": [
              "dtype('int64')"
            ]
          },
          "execution_count": 19,
          "metadata": {},
          "output_type": "execute_result"
        }
      ],
      "source": [
        "arr1.dtype  # Data type of elements"
      ]
    },
    {
      "cell_type": "code",
      "execution_count": 20,
      "metadata": {
        "colab": {
          "base_uri": "https://localhost:8080/"
        },
        "id": "iaTAtt4QNvdQ",
        "outputId": "9e7c4967-ee3f-4112-8f98-9872d992f044"
      },
      "outputs": [
        {
          "data": {
            "text/plain": [
              "array([1., 2., 3.])"
            ]
          },
          "execution_count": 20,
          "metadata": {},
          "output_type": "execute_result"
        }
      ],
      "source": [
        "arr1_float = arr1.astype(float)  # Convert to another type\n",
        "arr1_float"
      ]
    },
    {
      "cell_type": "markdown",
      "metadata": {
        "id": "0b_tt9-cNvdQ"
      },
      "source": [
        "### Memory Layout"
      ]
    },
    {
      "cell_type": "code",
      "execution_count": 21,
      "metadata": {
        "colab": {
          "base_uri": "https://localhost:8080/"
        },
        "id": "pK6S5xV1NvdQ",
        "outputId": "305a5ee4-bf28-4821-bdb7-dc80d8e93407"
      },
      "outputs": [
        {
          "data": {
            "text/plain": [
              "8"
            ]
          },
          "execution_count": 21,
          "metadata": {},
          "output_type": "execute_result"
        }
      ],
      "source": [
        "arr1.itemsize  # Size of one element in bytes"
      ]
    },
    {
      "cell_type": "code",
      "execution_count": 22,
      "metadata": {
        "colab": {
          "base_uri": "https://localhost:8080/"
        },
        "id": "GDKdZvLZNvdQ",
        "outputId": "8e4cf982-4f55-4e2b-d6c7-4b4eb3793855"
      },
      "outputs": [
        {
          "data": {
            "text/plain": [
              "24"
            ]
          },
          "execution_count": 22,
          "metadata": {},
          "output_type": "execute_result"
        }
      ],
      "source": [
        "arr1.nbytes  # Total memory used by array"
      ]
    },
    {
      "cell_type": "code",
      "execution_count": 23,
      "metadata": {
        "colab": {
          "base_uri": "https://localhost:8080/"
        },
        "id": "2quqCmGcNvdR",
        "outputId": "2bbf82c8-a4b6-4fc5-ec60-d45ee9a5427f"
      },
      "outputs": [
        {
          "data": {
            "text/plain": [
              "  C_CONTIGUOUS : True\n",
              "  F_CONTIGUOUS : True\n",
              "  OWNDATA : True\n",
              "  WRITEABLE : True\n",
              "  ALIGNED : True\n",
              "  WRITEBACKIFCOPY : False"
            ]
          },
          "execution_count": 23,
          "metadata": {},
          "output_type": "execute_result"
        }
      ],
      "source": [
        "arr1.flags  # Memory layout information"
      ]
    },
    {
      "cell_type": "markdown",
      "metadata": {
        "id": "J5uHsgvNNvdR"
      },
      "source": [
        "### Checking for `NaN` and `Inf` Values"
      ]
    },
    {
      "cell_type": "code",
      "execution_count": 24,
      "metadata": {
        "colab": {
          "base_uri": "https://localhost:8080/"
        },
        "id": "w6msfo99NvdR",
        "outputId": "52263112-fa89-4936-81e0-2d44c2c72987"
      },
      "outputs": [
        {
          "data": {
            "text/plain": [
              "(array([False, False,  True, False]),\n",
              " array([False, False, False,  True]),\n",
              " array([ True,  True, False, False]))"
            ]
          },
          "execution_count": 24,
          "metadata": {},
          "output_type": "execute_result"
        }
      ],
      "source": [
        "arr_nan_inf = np.array([1, 2, np.nan, np.inf])\n",
        "np.isnan(arr_nan_inf), np.isinf(arr_nan_inf), np.isfinite(arr_nan_inf)"
      ]
    },
    {
      "cell_type": "markdown",
      "metadata": {
        "id": "N260CdnXNvdR"
      },
      "source": [
        "## Array Mathematics\n"
      ]
    },
    {
      "cell_type": "markdown",
      "metadata": {
        "id": "foNDsphvOa-0"
      },
      "source": [
        "### Basic Operations"
      ]
    },
    {
      "cell_type": "code",
      "execution_count": 25,
      "metadata": {
        "colab": {
          "base_uri": "https://localhost:8080/"
        },
        "id": "DQF5uOBCNvdR",
        "outputId": "6c5d5713-f62e-467b-dcb9-c52ce6bb3eb1"
      },
      "outputs": [
        {
          "data": {
            "text/plain": [
              "array([2, 3, 4])"
            ]
          },
          "execution_count": 25,
          "metadata": {},
          "output_type": "execute_result"
        }
      ],
      "source": [
        "arr_add = arr1 + 1  # Add 1 to each element\n",
        "arr_add"
      ]
    },
    {
      "cell_type": "code",
      "execution_count": 26,
      "metadata": {
        "colab": {
          "base_uri": "https://localhost:8080/"
        },
        "id": "Ksja78r4NvdR",
        "outputId": "935569d1-3c18-4d9c-85dd-dbb2061734e9"
      },
      "outputs": [
        {
          "data": {
            "text/plain": [
              "array([2, 4, 6])"
            ]
          },
          "execution_count": 26,
          "metadata": {},
          "output_type": "execute_result"
        }
      ],
      "source": [
        "arr_mul = arr1 * 2  # Multiply each element by 2\n",
        "arr_mul"
      ]
    },
    {
      "cell_type": "code",
      "execution_count": 27,
      "metadata": {
        "colab": {
          "base_uri": "https://localhost:8080/"
        },
        "id": "uhTvjdhyNvdR",
        "outputId": "2a08a94f-d93a-4009-981c-f30694694432"
      },
      "outputs": [
        {
          "data": {
            "text/plain": [
              "array([2, 4, 6])"
            ]
          },
          "execution_count": 27,
          "metadata": {},
          "output_type": "execute_result"
        }
      ],
      "source": [
        "arr_sum = np.add(arr1, arr2)  # Add arrays element-wise\n",
        "arr_sum"
      ]
    },
    {
      "cell_type": "code",
      "execution_count": 28,
      "metadata": {
        "colab": {
          "base_uri": "https://localhost:8080/"
        },
        "id": "oF5Ni8bfNvdV",
        "outputId": "56692098-9b43-4086-9614-80257063a37d"
      },
      "outputs": [
        {
          "data": {
            "text/plain": [
              "array([0, 0, 0])"
            ]
          },
          "execution_count": 28,
          "metadata": {},
          "output_type": "execute_result"
        }
      ],
      "source": [
        "arr_diff = np.subtract(arr1, arr2)  # Subtract arrays element-wise\n",
        "arr_diff"
      ]
    },
    {
      "cell_type": "markdown",
      "metadata": {
        "id": "CfHZE6P5NvdV"
      },
      "source": [
        "### Aggregate Functions"
      ]
    },
    {
      "cell_type": "code",
      "execution_count": 29,
      "metadata": {
        "colab": {
          "base_uri": "https://localhost:8080/"
        },
        "id": "r0HcMLlvNvdV",
        "outputId": "d8c365d4-8b09-421a-da3a-b25100dd9243"
      },
      "outputs": [
        {
          "data": {
            "text/plain": [
              "6"
            ]
          },
          "execution_count": 29,
          "metadata": {},
          "output_type": "execute_result"
        }
      ],
      "source": [
        "arr_sum_total = np.sum(arr1)  # Sum of all elements\n",
        "arr_sum_total"
      ]
    },
    {
      "cell_type": "code",
      "execution_count": 30,
      "metadata": {
        "colab": {
          "base_uri": "https://localhost:8080/"
        },
        "id": "vhO08DbcNvdV",
        "outputId": "b70922c3-b3ef-49b0-dc56-b3613c1ca07d"
      },
      "outputs": [
        {
          "data": {
            "text/plain": [
              "2.0"
            ]
          },
          "execution_count": 30,
          "metadata": {},
          "output_type": "execute_result"
        }
      ],
      "source": [
        "arr_mean = np.mean(arr1)  # Mean of elements\n",
        "arr_mean"
      ]
    },
    {
      "cell_type": "code",
      "execution_count": 31,
      "metadata": {
        "colab": {
          "base_uri": "https://localhost:8080/"
        },
        "id": "ILcIwP6hNvdV",
        "outputId": "f53c06b0-1657-4eb6-c67f-3158fc3d6898"
      },
      "outputs": [
        {
          "data": {
            "text/plain": [
              "3"
            ]
          },
          "execution_count": 31,
          "metadata": {},
          "output_type": "execute_result"
        }
      ],
      "source": [
        "arr_max = np.max(arr1)  # Maximum value\n",
        "arr_max"
      ]
    },
    {
      "cell_type": "code",
      "execution_count": 32,
      "metadata": {
        "colab": {
          "base_uri": "https://localhost:8080/"
        },
        "id": "j8LyGZ2vNvdV",
        "outputId": "a636b640-db1b-4d75-aea7-a8e54369139a"
      },
      "outputs": [
        {
          "data": {
            "text/plain": [
              "1"
            ]
          },
          "execution_count": 32,
          "metadata": {},
          "output_type": "execute_result"
        }
      ],
      "source": [
        "arr_min = np.min(arr1)  # Minimum value\n",
        "arr_min"
      ]
    },
    {
      "cell_type": "code",
      "execution_count": 33,
      "metadata": {
        "colab": {
          "base_uri": "https://localhost:8080/"
        },
        "id": "d1atZZSLNvdV",
        "outputId": "9b464000-25f3-4aa4-f3e9-761d2cfade17"
      },
      "outputs": [
        {
          "data": {
            "text/plain": [
              "6"
            ]
          },
          "execution_count": 33,
          "metadata": {},
          "output_type": "execute_result"
        }
      ],
      "source": [
        "arr_prod = np.prod(arr1)  # Product of elements\n",
        "arr_prod"
      ]
    },
    {
      "cell_type": "code",
      "execution_count": 34,
      "metadata": {
        "colab": {
          "base_uri": "https://localhost:8080/"
        },
        "id": "Fm6leIylNvdV",
        "outputId": "9ad2fa0a-d16a-4946-f792-efc916141545"
      },
      "outputs": [
        {
          "data": {
            "text/plain": [
              "array([1, 3, 6])"
            ]
          },
          "execution_count": 34,
          "metadata": {},
          "output_type": "execute_result"
        }
      ],
      "source": [
        "arr_cumsum = np.cumsum(arr1)  # Cumulative sum of elements\n",
        "arr_cumsum"
      ]
    },
    {
      "cell_type": "code",
      "execution_count": 35,
      "metadata": {
        "colab": {
          "base_uri": "https://localhost:8080/"
        },
        "id": "yCHWB5pHNvdV",
        "outputId": "522497b4-e999-4add-dce5-42f862d3f4d4"
      },
      "outputs": [
        {
          "data": {
            "text/plain": [
              "array([1, 2, 6])"
            ]
          },
          "execution_count": 35,
          "metadata": {},
          "output_type": "execute_result"
        }
      ],
      "source": [
        "arr_cumprod = np.cumprod(arr1)  # Cumulative product of elements\n",
        "arr_cumprod"
      ]
    },
    {
      "cell_type": "markdown",
      "metadata": {
        "id": "LLUSkYqvNvdV"
      },
      "source": [
        "### Exponentials and Logarithms"
      ]
    },
    {
      "cell_type": "code",
      "execution_count": 36,
      "metadata": {
        "colab": {
          "base_uri": "https://localhost:8080/"
        },
        "id": "KNvnI8ioNvdV",
        "outputId": "b20f743e-f0a0-4edd-a662-d1e6505b903a"
      },
      "outputs": [
        {
          "data": {
            "text/plain": [
              "array([ 2.71828183,  7.3890561 , 20.08553692])"
            ]
          },
          "execution_count": 36,
          "metadata": {},
          "output_type": "execute_result"
        }
      ],
      "source": [
        "arr_exp = np.exp(arr1)  # Exponential of each element\n",
        "arr_exp"
      ]
    },
    {
      "cell_type": "code",
      "execution_count": 37,
      "metadata": {
        "colab": {
          "base_uri": "https://localhost:8080/"
        },
        "id": "phgB6ILlNvdV",
        "outputId": "9bc91a89-13d4-4a69-888c-433ce218a25c"
      },
      "outputs": [
        {
          "data": {
            "text/plain": [
              "array([0.        , 0.69314718, 1.09861229])"
            ]
          },
          "execution_count": 37,
          "metadata": {},
          "output_type": "execute_result"
        }
      ],
      "source": [
        "arr_log = np.log(arr1)  # Natural logarithm\n",
        "arr_log"
      ]
    },
    {
      "cell_type": "code",
      "execution_count": 38,
      "metadata": {
        "colab": {
          "base_uri": "https://localhost:8080/"
        },
        "id": "UQEbh8EGNvdW",
        "outputId": "573ff945-96f4-412d-a722-b7d675b3f682"
      },
      "outputs": [
        {
          "data": {
            "text/plain": [
              "array([0.        , 0.30103   , 0.47712125])"
            ]
          },
          "execution_count": 38,
          "metadata": {},
          "output_type": "execute_result"
        }
      ],
      "source": [
        "arr_log10 = np.log10(arr1)  # Base-10 logarithm\n",
        "arr_log10"
      ]
    },
    {
      "cell_type": "code",
      "execution_count": 39,
      "metadata": {
        "colab": {
          "base_uri": "https://localhost:8080/"
        },
        "id": "CHQnrFooNvdW",
        "outputId": "402fa55a-ebe5-4565-c04a-8347c467ffa3"
      },
      "outputs": [
        {
          "data": {
            "text/plain": [
              "array([ 1.71828183,  6.3890561 , 19.08553692])"
            ]
          },
          "execution_count": 39,
          "metadata": {},
          "output_type": "execute_result"
        }
      ],
      "source": [
        "arr_expm1 = np.expm1(arr1)  # Compute exp(x) - 1\n",
        "arr_expm1"
      ]
    },
    {
      "cell_type": "markdown",
      "metadata": {
        "id": "SpyjSKkpNvdW"
      },
      "source": [
        "### Trigonometric Functions"
      ]
    },
    {
      "cell_type": "code",
      "execution_count": 40,
      "metadata": {
        "colab": {
          "base_uri": "https://localhost:8080/"
        },
        "id": "KVH3QOdJNvdW",
        "outputId": "3b128a9c-e053-4afd-e8eb-bbf020c09d17"
      },
      "outputs": [
        {
          "data": {
            "text/plain": [
              "array([0.84147098, 0.90929743, 0.14112001])"
            ]
          },
          "execution_count": 40,
          "metadata": {},
          "output_type": "execute_result"
        }
      ],
      "source": [
        "arr_sin = np.sin(arr1)  # Sine of each element\n",
        "arr_sin"
      ]
    },
    {
      "cell_type": "code",
      "execution_count": 41,
      "metadata": {
        "colab": {
          "base_uri": "https://localhost:8080/"
        },
        "id": "xgAa8fSXNvdW",
        "outputId": "c4607df1-e335-4287-d4d4-174c6da96e8d"
      },
      "outputs": [
        {
          "data": {
            "text/plain": [
              "array([ 0.54030231, -0.41614684, -0.9899925 ])"
            ]
          },
          "execution_count": 41,
          "metadata": {},
          "output_type": "execute_result"
        }
      ],
      "source": [
        "arr_cos = np.cos(arr1)  # Cosine of each element\n",
        "arr_cos"
      ]
    },
    {
      "cell_type": "code",
      "execution_count": 42,
      "metadata": {
        "colab": {
          "base_uri": "https://localhost:8080/"
        },
        "id": "HL_Xxv2lNvdW",
        "outputId": "9b5f37c6-3d63-444f-e636-03dcf95d9876"
      },
      "outputs": [
        {
          "data": {
            "text/plain": [
              "array([ 1.55740772, -2.18503986, -0.14254654])"
            ]
          },
          "execution_count": 42,
          "metadata": {},
          "output_type": "execute_result"
        }
      ],
      "source": [
        "arr_tan = np.tan(arr1)  # Tangent of each element\n",
        "arr_tan"
      ]
    },
    {
      "cell_type": "code",
      "execution_count": 43,
      "metadata": {
        "colab": {
          "base_uri": "https://localhost:8080/"
        },
        "id": "CIEtcvLWNvdW",
        "outputId": "b1823675-33b1-4684-cee5-dfc7b27f9e1f"
      },
      "outputs": [
        {
          "data": {
            "text/plain": [
              "array([0.10016742, 0.20135792, 0.30469265])"
            ]
          },
          "execution_count": 43,
          "metadata": {},
          "output_type": "execute_result"
        }
      ],
      "source": [
        "arr_arcsin = np.arcsin(arr1 / 10)  # Inverse sine\n",
        "arr_arcsin"
      ]
    },
    {
      "cell_type": "code",
      "execution_count": 44,
      "metadata": {
        "colab": {
          "base_uri": "https://localhost:8080/"
        },
        "id": "HfSRtT9kNvdW",
        "outputId": "97ed1b16-dd04-4990-a3cd-8c28f2fd7a6e"
      },
      "outputs": [
        {
          "data": {
            "text/plain": [
              "array([1.47062891, 1.36943841, 1.26610367])"
            ]
          },
          "execution_count": 44,
          "metadata": {},
          "output_type": "execute_result"
        }
      ],
      "source": [
        "arr_arccos = np.arccos(arr1 / 10)  # Inverse cosine\n",
        "arr_arccos"
      ]
    },
    {
      "cell_type": "code",
      "execution_count": 45,
      "metadata": {
        "colab": {
          "base_uri": "https://localhost:8080/"
        },
        "id": "nPNvZA2PNvdW",
        "outputId": "c3f244e0-8821-44c2-b5a1-7ad4505e6779"
      },
      "outputs": [
        {
          "data": {
            "text/plain": [
              "array([0.09966865, 0.19739556, 0.29145679])"
            ]
          },
          "execution_count": 45,
          "metadata": {},
          "output_type": "execute_result"
        }
      ],
      "source": [
        "arr_arctan = np.arctan(arr1 / 10)  # Inverse tangent\n",
        "arr_arctan"
      ]
    },
    {
      "cell_type": "markdown",
      "metadata": {
        "id": "AuXPvEFmNvdW"
      },
      "source": [
        "### Rounding and Precision Control"
      ]
    },
    {
      "cell_type": "code",
      "execution_count": 46,
      "metadata": {
        "colab": {
          "base_uri": "https://localhost:8080/"
        },
        "id": "fVUoBefoNvdW",
        "outputId": "8c447edd-19cc-472d-d9a7-26e5664ee19a"
      },
      "outputs": [
        {
          "data": {
            "text/plain": [
              "array([1., 2., 3.])"
            ]
          },
          "execution_count": 46,
          "metadata": {},
          "output_type": "execute_result"
        }
      ],
      "source": [
        "arr_round = np.round(arr1_float, decimals=2)  # Round to 2 decimal places\n",
        "arr_round"
      ]
    },
    {
      "cell_type": "code",
      "execution_count": 47,
      "metadata": {
        "colab": {
          "base_uri": "https://localhost:8080/"
        },
        "id": "wqeyoeSLNvdW",
        "outputId": "c33f009e-8bf1-4a94-e74d-ff70043b9a4e"
      },
      "outputs": [
        {
          "data": {
            "text/plain": [
              "array([1., 2., 3.])"
            ]
          },
          "execution_count": 47,
          "metadata": {},
          "output_type": "execute_result"
        }
      ],
      "source": [
        "arr_floor = np.floor(arr1_float)  # Floor operation\n",
        "arr_floor"
      ]
    },
    {
      "cell_type": "code",
      "execution_count": 48,
      "metadata": {
        "colab": {
          "base_uri": "https://localhost:8080/"
        },
        "id": "CqxmRVM2NvdW",
        "outputId": "fccc653b-b76e-4926-ff65-a70b66278f2c"
      },
      "outputs": [
        {
          "data": {
            "text/plain": [
              "array([1., 2., 3.])"
            ]
          },
          "execution_count": 48,
          "metadata": {},
          "output_type": "execute_result"
        }
      ],
      "source": [
        "arr_ceil = np.ceil(arr1_float)  # Ceiling operation\n",
        "arr_ceil"
      ]
    },
    {
      "cell_type": "code",
      "execution_count": 49,
      "metadata": {
        "colab": {
          "base_uri": "https://localhost:8080/"
        },
        "id": "aUDmBnSqNvdW",
        "outputId": "37c26802-4012-469e-9ab2-43d6fc2a2a31"
      },
      "outputs": [
        {
          "data": {
            "text/plain": [
              "array([1., 2., 3.])"
            ]
          },
          "execution_count": 49,
          "metadata": {},
          "output_type": "execute_result"
        }
      ],
      "source": [
        "arr_trunc = np.trunc(arr1_float)  # Truncate elements to integers\n",
        "arr_trunc"
      ]
    },
    {
      "cell_type": "markdown",
      "metadata": {
        "id": "MXdnlGUUNvdW"
      },
      "source": [
        "## Array Manipulation"
      ]
    },
    {
      "cell_type": "markdown",
      "metadata": {
        "id": "Pw3PQ9noOd0k"
      },
      "source": [
        "### Reshaping"
      ]
    },
    {
      "cell_type": "code",
      "execution_count": 50,
      "metadata": {
        "colab": {
          "base_uri": "https://localhost:8080/"
        },
        "id": "Oq63VwpHNvdW",
        "outputId": "84959b5c-5a87-426a-c701-0b3898de7777"
      },
      "outputs": [
        {
          "data": {
            "text/plain": [
              "array([[1],\n",
              "       [2],\n",
              "       [3]])"
            ]
          },
          "execution_count": 50,
          "metadata": {},
          "output_type": "execute_result"
        }
      ],
      "source": [
        "arr_reshaped = arr1.reshape((3, 1))  # Reshape to 3x1 array\n",
        "arr_reshaped"
      ]
    },
    {
      "cell_type": "code",
      "execution_count": 51,
      "metadata": {
        "colab": {
          "base_uri": "https://localhost:8080/"
        },
        "id": "1VXOKCK2NvdW",
        "outputId": "b1843c9a-07bf-4472-f07f-17fdb4664a7d"
      },
      "outputs": [
        {
          "data": {
            "text/plain": [
              "array([1, 2, 3])"
            ]
          },
          "execution_count": 51,
          "metadata": {},
          "output_type": "execute_result"
        }
      ],
      "source": [
        "arr_flattened = arr1.flatten()  # Flatten the array to 1D\n",
        "arr_flattened"
      ]
    },
    {
      "cell_type": "code",
      "execution_count": 52,
      "metadata": {
        "colab": {
          "base_uri": "https://localhost:8080/"
        },
        "id": "cZVEbbV2NvdW",
        "outputId": "2852494a-64b7-4d2a-e03d-7fc0824bdf7f"
      },
      "outputs": [
        {
          "data": {
            "text/plain": [
              "array([1, 2, 3])"
            ]
          },
          "execution_count": 52,
          "metadata": {},
          "output_type": "execute_result"
        }
      ],
      "source": [
        "arr_raveled = np.ravel(arr1)  # Return a flattened array\n",
        "arr_raveled"
      ]
    },
    {
      "cell_type": "markdown",
      "metadata": {
        "id": "q6mWSA8-NvdW"
      },
      "source": [
        "### Transposing"
      ]
    },
    {
      "cell_type": "code",
      "execution_count": 53,
      "metadata": {
        "colab": {
          "base_uri": "https://localhost:8080/"
        },
        "id": "PHjXh6wrNvdX",
        "outputId": "a690c859-abe9-4898-8e79-788b13de9528"
      },
      "outputs": [
        {
          "data": {
            "text/plain": [
              "array([[1],\n",
              "       [2],\n",
              "       [3]])"
            ]
          },
          "execution_count": 53,
          "metadata": {},
          "output_type": "execute_result"
        }
      ],
      "source": [
        "arr_T = arr1.reshape((1, 3)).T  # Transpose of the array\n",
        "arr_T"
      ]
    },
    {
      "cell_type": "code",
      "execution_count": 54,
      "metadata": {
        "colab": {
          "base_uri": "https://localhost:8080/"
        },
        "id": "OP8wBYPyNvdX",
        "outputId": "b1e24e49-c303-4652-ff8f-3098a7e2c65b"
      },
      "outputs": [
        {
          "data": {
            "text/plain": [
              "array([[1, 2, 3]])"
            ]
          },
          "execution_count": 54,
          "metadata": {},
          "output_type": "execute_result"
        }
      ],
      "source": [
        "arr_custom_T = np.transpose(arr1.reshape((3, 1)), (1, 0))  # Custom transpose\n",
        "arr_custom_T"
      ]
    },
    {
      "cell_type": "markdown",
      "metadata": {
        "id": "8gurP8DdNvdX"
      },
      "source": [
        "### Joining and Splitting Arrays"
      ]
    },
    {
      "cell_type": "code",
      "execution_count": 55,
      "metadata": {
        "colab": {
          "base_uri": "https://localhost:8080/"
        },
        "id": "nKqj1M-mNvdX",
        "outputId": "4e1be408-22a2-4bd0-dd17-5ff15bc64406"
      },
      "outputs": [
        {
          "data": {
            "text/plain": [
              "array([1, 2, 3, 1, 2, 3])"
            ]
          },
          "execution_count": 55,
          "metadata": {},
          "output_type": "execute_result"
        }
      ],
      "source": [
        "arr_concat = np.concatenate((arr1, arr2))  # Join arrays\n",
        "arr_concat"
      ]
    },
    {
      "cell_type": "code",
      "execution_count": 56,
      "metadata": {
        "colab": {
          "base_uri": "https://localhost:8080/"
        },
        "id": "g5Gyl3_HNvdX",
        "outputId": "577ae204-2a10-48fb-ec94-7f10fbaef4a8"
      },
      "outputs": [
        {
          "data": {
            "text/plain": [
              "array([[1, 1],\n",
              "       [2, 2],\n",
              "       [3, 3]])"
            ]
          },
          "execution_count": 56,
          "metadata": {},
          "output_type": "execute_result"
        }
      ],
      "source": [
        "arr_hstack = np.hstack((arr1.reshape((3, 1)), arr2.reshape((3, 1))))  # Horizontal stack\n",
        "arr_hstack"
      ]
    },
    {
      "cell_type": "code",
      "execution_count": 57,
      "metadata": {
        "colab": {
          "base_uri": "https://localhost:8080/"
        },
        "id": "zWu-1YvrNvdX",
        "outputId": "e778f1c4-cbd4-4f12-ec4c-7fbeb265bd76"
      },
      "outputs": [
        {
          "data": {
            "text/plain": [
              "array([[1, 2, 3],\n",
              "       [1, 2, 3]])"
            ]
          },
          "execution_count": 57,
          "metadata": {},
          "output_type": "execute_result"
        }
      ],
      "source": [
        "arr_vstack = np.vstack((arr1, arr2))  # Vertical stack\n",
        "arr_vstack"
      ]
    },
    {
      "cell_type": "code",
      "execution_count": 58,
      "metadata": {
        "colab": {
          "base_uri": "https://localhost:8080/"
        },
        "id": "votQARjZNvdX",
        "outputId": "9d556a06-2042-47ca-8330-67c64cf17230"
      },
      "outputs": [
        {
          "data": {
            "text/plain": [
              "[array([1, 2]), array([3, 1]), array([2, 3])]"
            ]
          },
          "execution_count": 58,
          "metadata": {},
          "output_type": "execute_result"
        }
      ],
      "source": [
        "arr_split = np.split(arr_concat, 3)  # Split into 3 equal parts\n",
        "arr_split"
      ]
    },
    {
      "cell_type": "code",
      "execution_count": 59,
      "metadata": {
        "colab": {
          "base_uri": "https://localhost:8080/"
        },
        "id": "DVbm75jXNvdX",
        "outputId": "77d35567-ee6a-400b-ddce-20456c117da4"
      },
      "outputs": [
        {
          "data": {
            "text/plain": [
              "[array([[1],\n",
              "        [2],\n",
              "        [3]]),\n",
              " array([[1],\n",
              "        [2],\n",
              "        [3]])]"
            ]
          },
          "execution_count": 59,
          "metadata": {},
          "output_type": "execute_result"
        }
      ],
      "source": [
        "arr_hsplit = np.hsplit(arr_hstack, 2)  # Split horizontally\n",
        "arr_hsplit"
      ]
    },
    {
      "cell_type": "code",
      "execution_count": 60,
      "metadata": {
        "colab": {
          "base_uri": "https://localhost:8080/"
        },
        "id": "k6CKxn5zNvdX",
        "outputId": "ba03a8eb-c1a6-4972-a2b4-c1703ee61e60"
      },
      "outputs": [
        {
          "data": {
            "text/plain": [
              "[array([[1, 2, 3]]), array([[1, 2, 3]])]"
            ]
          },
          "execution_count": 60,
          "metadata": {},
          "output_type": "execute_result"
        }
      ],
      "source": [
        "arr_vsplit = np.vsplit(arr_vstack, 2)  # Split vertically\n",
        "arr_vsplit"
      ]
    },
    {
      "cell_type": "markdown",
      "metadata": {
        "id": "PnLMUbsKNvdX"
      },
      "source": [
        "### Changing Dimensions"
      ]
    },
    {
      "cell_type": "code",
      "execution_count": 61,
      "metadata": {
        "colab": {
          "base_uri": "https://localhost:8080/"
        },
        "id": "qONZ6v2qNvdX",
        "outputId": "cc5389f7-8a6e-4ddd-e6da-c3100eba57e6"
      },
      "outputs": [
        {
          "data": {
            "text/plain": [
              "array([[1, 2, 3]])"
            ]
          },
          "execution_count": 61,
          "metadata": {},
          "output_type": "execute_result"
        }
      ],
      "source": [
        "arr_expanded = np.expand_dims(arr1, axis=0)  # Expand dimensions\n",
        "arr_expanded"
      ]
    },
    {
      "cell_type": "code",
      "execution_count": 62,
      "metadata": {
        "colab": {
          "base_uri": "https://localhost:8080/"
        },
        "id": "8bXf4rKsNvdX",
        "outputId": "70f7d41b-e0ae-439f-f0c0-6b71374c7cdd"
      },
      "outputs": [
        {
          "data": {
            "text/plain": [
              "array([1, 2, 3])"
            ]
          },
          "execution_count": 62,
          "metadata": {},
          "output_type": "execute_result"
        }
      ],
      "source": [
        "arr_squeezed = np.squeeze(arr_expanded)  # Remove single-dimensional entries\n",
        "arr_squeezed"
      ]
    },
    {
      "cell_type": "markdown",
      "metadata": {
        "id": "02u9q5P1NvdX"
      },
      "source": [
        "### Array Repetition"
      ]
    },
    {
      "cell_type": "code",
      "execution_count": 63,
      "metadata": {
        "colab": {
          "base_uri": "https://localhost:8080/"
        },
        "id": "PByyiwslNvdX",
        "outputId": "46c73df1-eb69-445c-c610-9194e489b55f"
      },
      "outputs": [
        {
          "data": {
            "text/plain": [
              "array([[1, 2, 3, 1, 2, 3, 1, 2, 3],\n",
              "       [1, 2, 3, 1, 2, 3, 1, 2, 3]])"
            ]
          },
          "execution_count": 63,
          "metadata": {},
          "output_type": "execute_result"
        }
      ],
      "source": [
        "arr_tiled = np.tile(arr1, (2, 3))  # Repeat array\n",
        "arr_tiled"
      ]
    },
    {
      "cell_type": "code",
      "execution_count": 64,
      "metadata": {
        "colab": {
          "base_uri": "https://localhost:8080/"
        },
        "id": "jEe1lu03NvdX",
        "outputId": "cae37c8d-427f-447a-cab2-0016a54d815f"
      },
      "outputs": [
        {
          "data": {
            "text/plain": [
              "array([1, 1, 1, 2, 2, 2, 3, 3, 3])"
            ]
          },
          "execution_count": 64,
          "metadata": {},
          "output_type": "execute_result"
        }
      ],
      "source": [
        "arr_repeated = np.repeat(arr1, 3)  # Repeat elements of an array\n",
        "arr_repeated"
      ]
    },
    {
      "cell_type": "markdown",
      "metadata": {
        "id": "bZ6pCAuENvdX"
      },
      "source": [
        "### Rotating and Flipping Arrays"
      ]
    },
    {
      "cell_type": "code",
      "execution_count": 65,
      "metadata": {
        "colab": {
          "base_uri": "https://localhost:8080/"
        },
        "id": "6A_FY3fTNvdX",
        "outputId": "8bdbb4c1-0412-42f1-e76a-0605cf40e0f1"
      },
      "outputs": [
        {
          "data": {
            "text/plain": [
              "array([[1, 2, 3]])"
            ]
          },
          "execution_count": 65,
          "metadata": {},
          "output_type": "execute_result"
        }
      ],
      "source": [
        "arr_rot90 = np.rot90(arr1.reshape((3, 1)))  # Rotate array by 90 degrees\n",
        "arr_rot90"
      ]
    },
    {
      "cell_type": "code",
      "execution_count": 66,
      "metadata": {
        "colab": {
          "base_uri": "https://localhost:8080/"
        },
        "id": "EdEdzVtoNvdX",
        "outputId": "553c41c0-8a30-4e2e-f8e5-c49f10a16cff"
      },
      "outputs": [
        {
          "data": {
            "text/plain": [
              "array([[1],\n",
              "       [2],\n",
              "       [3]])"
            ]
          },
          "execution_count": 66,
          "metadata": {},
          "output_type": "execute_result"
        }
      ],
      "source": [
        "arr_fliplr = np.fliplr(arr1.reshape((3, 1)))  # Flip array left to right\n",
        "arr_fliplr"
      ]
    },
    {
      "cell_type": "code",
      "execution_count": 67,
      "metadata": {
        "colab": {
          "base_uri": "https://localhost:8080/"
        },
        "id": "zCc_VYnHNvdX",
        "outputId": "2a72b785-4141-4eae-9a95-5dc1a8401b14"
      },
      "outputs": [
        {
          "data": {
            "text/plain": [
              "array([[3],\n",
              "       [2],\n",
              "       [1]])"
            ]
          },
          "execution_count": 67,
          "metadata": {},
          "output_type": "execute_result"
        }
      ],
      "source": [
        "arr_flipud = np.flipud(arr1.reshape((3, 1)))  # Flip array upside down\n",
        "arr_flipud"
      ]
    },
    {
      "cell_type": "markdown",
      "metadata": {
        "id": "hS48E1QGNvdY"
      },
      "source": [
        "## Linear Algebra\n"
      ]
    },
    {
      "cell_type": "markdown",
      "metadata": {
        "id": "zM_EHXhCOgEW"
      },
      "source": [
        "### Dot Product and Matrix Multiplication"
      ]
    },
    {
      "cell_type": "code",
      "execution_count": 68,
      "metadata": {
        "colab": {
          "base_uri": "https://localhost:8080/"
        },
        "id": "SWChyZRQNvdY",
        "outputId": "dafb8dc8-9363-4c14-c126-c4f8a3af6942"
      },
      "outputs": [
        {
          "data": {
            "text/plain": [
              "14"
            ]
          },
          "execution_count": 68,
          "metadata": {},
          "output_type": "execute_result"
        }
      ],
      "source": [
        "arr_dot = np.dot(arr1, arr2)  # Dot product\n",
        "arr_dot"
      ]
    },
    {
      "cell_type": "code",
      "execution_count": 69,
      "metadata": {
        "colab": {
          "base_uri": "https://localhost:8080/"
        },
        "id": "dHBipSXzNvdY",
        "outputId": "c969bb21-76f7-4a7f-a6c4-22da9adf70a7"
      },
      "outputs": [
        {
          "data": {
            "text/plain": [
              "array([[1, 2, 3],\n",
              "       [2, 4, 6],\n",
              "       [3, 6, 9]])"
            ]
          },
          "execution_count": 69,
          "metadata": {},
          "output_type": "execute_result"
        }
      ],
      "source": [
        "arr_matmul = np.matmul(arr1.reshape((3, 1)), arr2.reshape((1, 3)))  # Matrix multiplication\n",
        "arr_matmul"
      ]
    },
    {
      "cell_type": "code",
      "execution_count": 70,
      "metadata": {
        "colab": {
          "base_uri": "https://localhost:8080/"
        },
        "id": "oVsqZNulNvdY",
        "outputId": "febebbd1-4047-458d-aec8-353666bedfa3"
      },
      "outputs": [
        {
          "data": {
            "text/plain": [
              "array([[1, 2, 3],\n",
              "       [2, 4, 6],\n",
              "       [3, 6, 9]])"
            ]
          },
          "execution_count": 70,
          "metadata": {},
          "output_type": "execute_result"
        }
      ],
      "source": [
        "arr_matmul_op = arr1.reshape((3, 1)) @ arr2.reshape((1, 3))  # Matrix multiplication using @\n",
        "arr_matmul_op"
      ]
    },
    {
      "cell_type": "markdown",
      "metadata": {
        "id": "Xt0IPkj_NvdY"
      },
      "source": [
        "### Solving Linear Equations"
      ]
    },
    {
      "cell_type": "code",
      "execution_count": 71,
      "metadata": {
        "colab": {
          "base_uri": "https://localhost:8080/"
        },
        "id": "JoI9iJsKNvdY",
        "outputId": "87db8110-4ac7-4f3f-a4dc-72292255fff7"
      },
      "outputs": [
        {
          "data": {
            "text/plain": [
              "array([2., 3.])"
            ]
          },
          "execution_count": 71,
          "metadata": {},
          "output_type": "execute_result"
        }
      ],
      "source": [
        "A = np.array([[3, 1], [1, 2]])\n",
        "b = np.array([9, 8])\n",
        "x = np.linalg.solve(A, b)  # Solve linear equations Ax = b\n",
        "x"
      ]
    },
    {
      "cell_type": "markdown",
      "metadata": {
        "id": "Jgl4iR3eNvdY"
      },
      "source": [
        "### Eigenvalues and Eigenvectors"
      ]
    },
    {
      "cell_type": "code",
      "execution_count": 72,
      "metadata": {
        "colab": {
          "base_uri": "https://localhost:8080/"
        },
        "id": "oZrcN1jFNvdY",
        "outputId": "e35a0dcb-d3d0-4706-b190-147c795e58a0"
      },
      "outputs": [
        {
          "data": {
            "text/plain": [
              "(array([3.61803399, 1.38196601]),\n",
              " array([[ 0.85065081, -0.52573111],\n",
              "        [ 0.52573111,  0.85065081]]))"
            ]
          },
          "execution_count": 72,
          "metadata": {},
          "output_type": "execute_result"
        }
      ],
      "source": [
        "arr_eigvals, arr_eigvecs = np.linalg.eig(A)  # Eigenvalues and eigenvectors\n",
        "arr_eigvals, arr_eigvecs"
      ]
    },
    {
      "cell_type": "markdown",
      "metadata": {
        "id": "dih-RYVKNvdY"
      },
      "source": [
        "### Inverse and Determinant"
      ]
    },
    {
      "cell_type": "code",
      "execution_count": 73,
      "metadata": {
        "colab": {
          "base_uri": "https://localhost:8080/"
        },
        "id": "7Tc4CEhNNvdY",
        "outputId": "5496b22d-8ee5-4edd-cedc-54d71af7d28f"
      },
      "outputs": [
        {
          "data": {
            "text/plain": [
              "array([[ 0.4, -0.2],\n",
              "       [-0.2,  0.6]])"
            ]
          },
          "execution_count": 73,
          "metadata": {},
          "output_type": "execute_result"
        }
      ],
      "source": [
        "arr_inv = np.linalg.inv(A)  # Inverse of a matrix\n",
        "arr_inv"
      ]
    },
    {
      "cell_type": "code",
      "execution_count": 74,
      "metadata": {
        "colab": {
          "base_uri": "https://localhost:8080/"
        },
        "id": "9YhckAdsNvdY",
        "outputId": "556fe516-8abd-4266-9702-692aba42b339"
      },
      "outputs": [
        {
          "data": {
            "text/plain": [
              "5.000000000000001"
            ]
          },
          "execution_count": 74,
          "metadata": {},
          "output_type": "execute_result"
        }
      ],
      "source": [
        "arr_det = np.linalg.det(A)  # Determinant of a matrix\n",
        "arr_det"
      ]
    },
    {
      "cell_type": "markdown",
      "metadata": {
        "id": "7k4_N7B_NvdY"
      },
      "source": [
        "### Singular Value Decomposition (SVD)"
      ]
    },
    {
      "cell_type": "code",
      "execution_count": 75,
      "metadata": {
        "colab": {
          "base_uri": "https://localhost:8080/"
        },
        "id": "EIfpKQ-9NvdY",
        "outputId": "57612835-5ec4-47b1-9d33-8ef8f3273ee5"
      },
      "outputs": [
        {
          "data": {
            "text/plain": [
              "(array([[-0.85065081, -0.52573111],\n",
              "        [-0.52573111,  0.85065081]]),\n",
              " array([3.61803399, 1.38196601]),\n",
              " array([[-0.85065081, -0.52573111],\n",
              "        [-0.52573111,  0.85065081]]))"
            ]
          },
          "execution_count": 75,
          "metadata": {},
          "output_type": "execute_result"
        }
      ],
      "source": [
        "U, S, V = np.linalg.svd(A)  # Singular Value Decomposition\n",
        "U, S, V"
      ]
    },
    {
      "cell_type": "markdown",
      "metadata": {
        "id": "fUUiv4FmNvdY"
      },
      "source": [
        "### Norms and Condition Numbers"
      ]
    },
    {
      "cell_type": "code",
      "execution_count": 76,
      "metadata": {
        "colab": {
          "base_uri": "https://localhost:8080/"
        },
        "id": "HmGv35KANvdY",
        "outputId": "a7625de3-ef03-4e74-fa61-0ccc6c06b265"
      },
      "outputs": [
        {
          "data": {
            "text/plain": [
              "3.7416573867739413"
            ]
          },
          "execution_count": 76,
          "metadata": {},
          "output_type": "execute_result"
        }
      ],
      "source": [
        "arr_norm = np.linalg.norm(arr1)  # Compute matrix or vector norm\n",
        "arr_norm"
      ]
    },
    {
      "cell_type": "code",
      "execution_count": 77,
      "metadata": {
        "colab": {
          "base_uri": "https://localhost:8080/"
        },
        "id": "B3SogfpgNvdY",
        "outputId": "fef8fbbf-e5ba-43f7-df09-ac26c3ee75ce"
      },
      "outputs": [
        {
          "data": {
            "text/plain": [
              "2.618033988749896"
            ]
          },
          "execution_count": 77,
          "metadata": {},
          "output_type": "execute_result"
        }
      ],
      "source": [
        "arr_cond = np.linalg.cond(A)  # Compute the condition number of a matrix\n",
        "arr_cond"
      ]
    },
    {
      "cell_type": "markdown",
      "metadata": {
        "id": "vatZTCRfNvdY"
      },
      "source": [
        "## Statistics\n"
      ]
    },
    {
      "cell_type": "markdown",
      "metadata": {
        "id": "ppbOjb8dOiWq"
      },
      "source": [
        "### Descriptive Statistics"
      ]
    },
    {
      "cell_type": "code",
      "execution_count": 78,
      "metadata": {
        "colab": {
          "base_uri": "https://localhost:8080/"
        },
        "id": "jshHcFugNvdY",
        "outputId": "6f661999-4900-4eda-ad37-6b42ea0c9897"
      },
      "outputs": [
        {
          "data": {
            "text/plain": [
              "2.0"
            ]
          },
          "execution_count": 78,
          "metadata": {},
          "output_type": "execute_result"
        }
      ],
      "source": [
        "arr_mean = np.mean(arr1)  # Mean\n",
        "arr_mean"
      ]
    },
    {
      "cell_type": "code",
      "execution_count": 79,
      "metadata": {
        "colab": {
          "base_uri": "https://localhost:8080/"
        },
        "id": "SA-lweiBNvdY",
        "outputId": "fc3e4f51-6864-4ba2-90d4-82eda7853431"
      },
      "outputs": [
        {
          "data": {
            "text/plain": [
              "2.0"
            ]
          },
          "execution_count": 79,
          "metadata": {},
          "output_type": "execute_result"
        }
      ],
      "source": [
        "arr_median = np.median(arr1)  # Median\n",
        "arr_median"
      ]
    },
    {
      "cell_type": "code",
      "execution_count": 80,
      "metadata": {
        "colab": {
          "base_uri": "https://localhost:8080/"
        },
        "id": "x92PqVrtNvdY",
        "outputId": "2e40d7c8-fd92-419d-d8dd-afd8ecd929bd"
      },
      "outputs": [
        {
          "data": {
            "text/plain": [
              "0.6666666666666666"
            ]
          },
          "execution_count": 80,
          "metadata": {},
          "output_type": "execute_result"
        }
      ],
      "source": [
        "arr_var = np.var(arr1)  # Variance\n",
        "arr_var"
      ]
    },
    {
      "cell_type": "code",
      "execution_count": 81,
      "metadata": {
        "colab": {
          "base_uri": "https://localhost:8080/"
        },
        "id": "R1YlsqpbNvdZ",
        "outputId": "a7d58b3c-f2be-4336-d5d8-b3e404220aa7"
      },
      "outputs": [
        {
          "data": {
            "text/plain": [
              "0.816496580927726"
            ]
          },
          "execution_count": 81,
          "metadata": {},
          "output_type": "execute_result"
        }
      ],
      "source": [
        "arr_std = np.std(arr1)  # Standard deviation\n",
        "arr_std"
      ]
    },
    {
      "cell_type": "markdown",
      "metadata": {
        "id": "YFa5DzVPNvdZ"
      },
      "source": [
        "### Percentiles"
      ]
    },
    {
      "cell_type": "code",
      "execution_count": 82,
      "metadata": {
        "colab": {
          "base_uri": "https://localhost:8080/"
        },
        "id": "xBH3PFxlNvdZ",
        "outputId": "5a183d3a-149d-482a-e308-811074ed9aa3"
      },
      "outputs": [
        {
          "data": {
            "text/plain": [
              "2.0"
            ]
          },
          "execution_count": 82,
          "metadata": {},
          "output_type": "execute_result"
        }
      ],
      "source": [
        "arr_percentile = np.percentile(arr1, 50)  # 50th percentile (median)\n",
        "arr_percentile"
      ]
    },
    {
      "cell_type": "markdown",
      "metadata": {
        "id": "CdqBRtN1NvdZ"
      },
      "source": [
        "### Correlation and Covariance"
      ]
    },
    {
      "cell_type": "code",
      "execution_count": 83,
      "metadata": {
        "colab": {
          "base_uri": "https://localhost:8080/"
        },
        "id": "xTmW1ZoNNvdZ",
        "outputId": "56b8dd56-95e6-4758-db5e-601c0ba7057f"
      },
      "outputs": [
        {
          "data": {
            "text/plain": [
              "array([[1., 1.],\n",
              "       [1., 1.]])"
            ]
          },
          "execution_count": 83,
          "metadata": {},
          "output_type": "execute_result"
        }
      ],
      "source": [
        "arr_corr = np.corrcoef(arr1, arr2)  # Correlation coefficient\n",
        "arr_corr"
      ]
    },
    {
      "cell_type": "code",
      "execution_count": 84,
      "metadata": {
        "colab": {
          "base_uri": "https://localhost:8080/"
        },
        "id": "m08obd4QNvdZ",
        "outputId": "b00d6b8a-efb6-4eb7-91d6-482bc0f5ed9e"
      },
      "outputs": [
        {
          "data": {
            "text/plain": [
              "array([[1., 1.],\n",
              "       [1., 1.]])"
            ]
          },
          "execution_count": 84,
          "metadata": {},
          "output_type": "execute_result"
        }
      ],
      "source": [
        "arr_cov = np.cov(arr1, arr2)  # Covariance\n",
        "arr_cov"
      ]
    },
    {
      "cell_type": "markdown",
      "metadata": {
        "id": "GzJhCiDRNvdZ"
      },
      "source": [
        "### Histogram"
      ]
    },
    {
      "cell_type": "code",
      "execution_count": 85,
      "metadata": {
        "colab": {
          "base_uri": "https://localhost:8080/"
        },
        "id": "iSPB4yOPNvdZ",
        "outputId": "f4e5185d-a0f6-4c0a-faee-cdde7d4c5179"
      },
      "outputs": [
        {
          "data": {
            "text/plain": [
              "(array([1, 1, 1]), array([1.        , 1.66666667, 2.33333333, 3.        ]))"
            ]
          },
          "execution_count": 85,
          "metadata": {},
          "output_type": "execute_result"
        }
      ],
      "source": [
        "arr_hist, arr_bins = np.histogram(arr1, bins=3)  # Histogram of an array\n",
        "arr_hist, arr_bins"
      ]
    },
    {
      "cell_type": "markdown",
      "metadata": {
        "id": "VAFIRJ4SNvdZ"
      },
      "source": [
        "### Binned Statistics"
      ]
    },
    {
      "cell_type": "code",
      "execution_count": 86,
      "metadata": {
        "colab": {
          "base_uri": "https://localhost:8080/"
        },
        "id": "XJK5vzNINvdZ",
        "outputId": "c9468a35-dc1a-42ab-d65a-6c853b59d81b"
      },
      "outputs": [
        {
          "data": {
            "text/plain": [
              "array([1., 2., 3.])"
            ]
          },
          "execution_count": 86,
          "metadata": {},
          "output_type": "execute_result"
        }
      ],
      "source": [
        "from scipy import stats\n",
        "arr_binned_statistic = stats.binned_statistic(arr1, arr1, statistic='mean', bins=3)  # Compute binned statistics\n",
        "arr_binned_statistic.statistic"
      ]
    },
    {
      "cell_type": "markdown",
      "metadata": {
        "id": "BCKQfCHxNvdZ"
      },
      "source": [
        "## Broadcasting\n"
      ]
    },
    {
      "cell_type": "markdown",
      "metadata": {
        "id": "33K5dpEqOk5r"
      },
      "source": [
        "### Basic Broadcasting"
      ]
    },
    {
      "cell_type": "code",
      "execution_count": 87,
      "metadata": {
        "colab": {
          "base_uri": "https://localhost:8080/"
        },
        "id": "KX7NshH-NvdZ",
        "outputId": "4056a02b-3afc-4b89-96fb-e95bf07e6f0d"
      },
      "outputs": [
        {
          "data": {
            "text/plain": [
              "array([6, 7, 8])"
            ]
          },
          "execution_count": 87,
          "metadata": {},
          "output_type": "execute_result"
        }
      ],
      "source": [
        "arr_broadcast_add = arr1 + 5  # Add 5 to all elements\n",
        "arr_broadcast_add"
      ]
    },
    {
      "cell_type": "code",
      "execution_count": 88,
      "metadata": {
        "colab": {
          "base_uri": "https://localhost:8080/"
        },
        "id": "IYmQKDWiNvdZ",
        "outputId": "182dd0c2-be3d-41f0-aca5-8b0e68c867d1"
      },
      "outputs": [
        {
          "data": {
            "text/plain": [
              "array([2, 4, 6])"
            ]
          },
          "execution_count": 88,
          "metadata": {},
          "output_type": "execute_result"
        }
      ],
      "source": [
        "arr_broadcast_array = arr1 + np.array([1, 2, 3])  # Add array [1, 2, 3] to each row\n",
        "arr_broadcast_array"
      ]
    },
    {
      "cell_type": "markdown",
      "metadata": {
        "id": "WTWGlq1TNvdZ"
      },
      "source": [
        "### Advanced Broadcasting"
      ]
    },
    {
      "cell_type": "code",
      "execution_count": 89,
      "metadata": {
        "colab": {
          "base_uri": "https://localhost:8080/"
        },
        "id": "BivY0Qu-NvdZ",
        "outputId": "f7440f1a-6fe3-4b6d-8f9c-08123990b437"
      },
      "outputs": [
        {
          "data": {
            "text/plain": [
              "array([1, 4, 9])"
            ]
          },
          "execution_count": 89,
          "metadata": {},
          "output_type": "execute_result"
        }
      ],
      "source": [
        "arr_broadcast_mult = arr1 * np.array([1, 2, 3])  # Element-wise multiplication with broadcasting\n",
        "arr_broadcast_mult"
      ]
    },
    {
      "cell_type": "code",
      "execution_count": 90,
      "metadata": {
        "colab": {
          "base_uri": "https://localhost:8080/"
        },
        "id": "grPNUv5jNvdZ",
        "outputId": "94ede7f5-c92f-44f7-ce46-ce357e237706"
      },
      "outputs": [
        {
          "data": {
            "text/plain": [
              "array([[2, 4, 6]])"
            ]
          },
          "execution_count": 90,
          "metadata": {},
          "output_type": "execute_result"
        }
      ],
      "source": [
        "arr_broadcast_expand = np.expand_dims(arr1, axis=0) + arr1  # Broadcasting with dimension expansion\n",
        "arr_broadcast_expand"
      ]
    },
    {
      "cell_type": "markdown",
      "metadata": {
        "id": "QHxqIf1rNvdZ"
      },
      "source": [
        "## Indexing and Slicing\n"
      ]
    },
    {
      "cell_type": "markdown",
      "metadata": {
        "id": "0LhXW7MxOnDs"
      },
      "source": [
        "### Basic Indexing"
      ]
    },
    {
      "cell_type": "code",
      "execution_count": 91,
      "metadata": {
        "colab": {
          "base_uri": "https://localhost:8080/"
        },
        "id": "6_uuAhKWNvdZ",
        "outputId": "04e81523-43e9-4e80-d432-b9159e19e822"
      },
      "outputs": [
        {
          "data": {
            "text/plain": [
              "1"
            ]
          },
          "execution_count": 91,
          "metadata": {},
          "output_type": "execute_result"
        }
      ],
      "source": [
        "first_element = arr1[0]  # First element\n",
        "first_element"
      ]
    },
    {
      "cell_type": "code",
      "execution_count": 92,
      "metadata": {
        "colab": {
          "base_uri": "https://localhost:8080/"
        },
        "id": "4nf_WBUsNvdZ",
        "outputId": "c8cea14a-ffc4-493a-caf1-e83801e477c7"
      },
      "outputs": [
        {
          "data": {
            "text/plain": [
              "3"
            ]
          },
          "execution_count": 92,
          "metadata": {},
          "output_type": "execute_result"
        }
      ],
      "source": [
        "last_element = arr1[-1]  # Last element\n",
        "last_element"
      ]
    },
    {
      "cell_type": "code",
      "execution_count": 93,
      "metadata": {
        "colab": {
          "base_uri": "https://localhost:8080/"
        },
        "id": "CD-eIBIyNvdZ",
        "outputId": "f1d22d1c-3023-46f5-e2c3-a11bfea08f14"
      },
      "outputs": [
        {
          "data": {
            "text/plain": [
              "(1, 3)"
            ]
          },
          "execution_count": 93,
          "metadata": {},
          "output_type": "execute_result"
        }
      ],
      "source": [
        "element_0_2 = arr1[0]  # First element\n",
        "third_element = arr1[2]  # Third element\n",
        "first_element, third_element"
      ]
    },
    {
      "cell_type": "markdown",
      "metadata": {
        "id": "FN2nATSqNvdZ"
      },
      "source": [
        "### Slicing"
      ]
    },
    {
      "cell_type": "code",
      "execution_count": 94,
      "metadata": {
        "colab": {
          "base_uri": "https://localhost:8080/"
        },
        "id": "cCm6p-DoNvda",
        "outputId": "2a5a067a-258c-4508-9eca-f5f849c30f70"
      },
      "outputs": [
        {
          "data": {
            "text/plain": [
              "array([2, 3])"
            ]
          },
          "execution_count": 94,
          "metadata": {},
          "output_type": "execute_result"
        }
      ],
      "source": [
        "arr_slice_1_3 = arr1[1:3]  # Elements from index 1 to 2\n",
        "arr_slice_1_3"
      ]
    },
    {
      "cell_type": "code",
      "execution_count": 95,
      "metadata": {
        "colab": {
          "base_uri": "https://localhost:8080/"
        },
        "id": "5m38cEAINvda",
        "outputId": "3c3ce4b5-222b-492f-ce7e-2ac5758ffd88"
      },
      "outputs": [
        {
          "data": {
            "text/plain": [
              "array([1, 2, 3])"
            ]
          },
          "execution_count": 95,
          "metadata": {},
          "output_type": "execute_result"
        }
      ],
      "source": [
        "arr_slice_all = arr1[:]  # All elements\n",
        "arr_slice_all"
      ]
    },
    {
      "cell_type": "code",
      "execution_count": 96,
      "metadata": {
        "colab": {
          "base_uri": "https://localhost:8080/"
        },
        "id": "Fbz4ssGhNvda",
        "outputId": "02434d72-4de2-480c-846a-3fd5b2946cc2"
      },
      "outputs": [
        {
          "data": {
            "text/plain": [
              "array([1, 3])"
            ]
          },
          "execution_count": 96,
          "metadata": {},
          "output_type": "execute_result"
        }
      ],
      "source": [
        "arr_slice_skip = arr1[::2]  # Every other element\n",
        "arr_slice_skip"
      ]
    },
    {
      "cell_type": "markdown",
      "metadata": {
        "id": "ECbNShwkNvda"
      },
      "source": [
        "### Fancy Indexing"
      ]
    },
    {
      "cell_type": "code",
      "execution_count": 97,
      "metadata": {
        "colab": {
          "base_uri": "https://localhost:8080/"
        },
        "id": "cryfG8P-Nvda",
        "outputId": "76a86add-8e85-494d-c3d6-2cb603e3f6e2"
      },
      "outputs": [
        {
          "data": {
            "text/plain": [
              "array([1, 3])"
            ]
          },
          "execution_count": 97,
          "metadata": {},
          "output_type": "execute_result"
        }
      ],
      "source": [
        "arr_fancy_index = arr1[[0, 2]]  # Elements 0 and 2\n",
        "arr_fancy_index"
      ]
    },
    {
      "cell_type": "markdown",
      "metadata": {
        "id": "pUU_aGaQNvda"
      },
      "source": [
        "## Boolean Masking and Advanced Indexing\n"
      ]
    },
    {
      "cell_type": "markdown",
      "metadata": {
        "id": "bjTIEA5ROpYI"
      },
      "source": [
        "### Boolean Masking"
      ]
    },
    {
      "cell_type": "code",
      "execution_count": 98,
      "metadata": {
        "colab": {
          "base_uri": "https://localhost:8080/"
        },
        "id": "OepjwX22Nvda",
        "outputId": "14515538-d380-4b6a-9e13-aa854d0807f0"
      },
      "outputs": [
        {
          "data": {
            "text/plain": [
              "array([3])"
            ]
          },
          "execution_count": 98,
          "metadata": {},
          "output_type": "execute_result"
        }
      ],
      "source": [
        "arr_bool_mask = arr1[arr1 > 2]  # Elements greater than 2\n",
        "arr_bool_mask"
      ]
    },
    {
      "cell_type": "markdown",
      "metadata": {
        "id": "YW0nqn5qNvda"
      },
      "source": [
        "### Advanced Indexing with Conditions"
      ]
    },
    {
      "cell_type": "code",
      "execution_count": 99,
      "metadata": {
        "colab": {
          "base_uri": "https://localhost:8080/"
        },
        "id": "7FxWR_DZNvda",
        "outputId": "44693fd9-4668-4b55-f749-39aa7a35a210"
      },
      "outputs": [
        {
          "data": {
            "text/plain": [
              "array([-1, -2,  3])"
            ]
          },
          "execution_count": 99,
          "metadata": {},
          "output_type": "execute_result"
        }
      ],
      "source": [
        "arr_where = np.where(arr1 > 2, arr1, -arr1)  # Replace negative values with their absolute value\n",
        "arr_where"
      ]
    },
    {
      "cell_type": "markdown",
      "metadata": {
        "id": "4jWp5QO-Nvda"
      },
      "source": [
        "### Setting Values"
      ]
    },
    {
      "cell_type": "code",
      "execution_count": 100,
      "metadata": {
        "colab": {
          "base_uri": "https://localhost:8080/"
        },
        "id": "S9wNnXSaNvda",
        "outputId": "e9732568-898a-43c7-ecd7-af9eb1d0d10c"
      },
      "outputs": [
        {
          "data": {
            "text/plain": [
              "array([1, 2, 0])"
            ]
          },
          "execution_count": 100,
          "metadata": {},
          "output_type": "execute_result"
        }
      ],
      "source": [
        "arr_set_values = arr1.copy()\n",
        "arr_set_values[arr_set_values > 2] = 0  # Set all positive elements to 0\n",
        "arr_set_values"
      ]
    },
    {
      "cell_type": "markdown",
      "metadata": {
        "id": "oAHWuj0BNvda"
      },
      "source": [
        "### Advanced Indexing with np.ix_"
      ]
    },
    {
      "cell_type": "code",
      "execution_count": 101,
      "metadata": {
        "colab": {
          "base_uri": "https://localhost:8080/"
        },
        "id": "rpbSa3aXNvda",
        "outputId": "533d536d-59b9-4f00-92b2-5a2d3bc5b5b1"
      },
      "outputs": [
        {
          "data": {
            "text/plain": [
              "(array([[0],\n",
              "        [1]]),\n",
              " array([[2, 3]]))"
            ]
          },
          "execution_count": 101,
          "metadata": {},
          "output_type": "execute_result"
        }
      ],
      "source": [
        "arr_ix = np.ix_([0, 1], [2, 3])  # Create a mesh grid from indexing arrays\n",
        "arr_ix"
      ]
    },
    {
      "cell_type": "markdown",
      "metadata": {
        "id": "iw3l_sS8Nvda"
      },
      "source": [
        "## Random\n"
      ]
    },
    {
      "cell_type": "markdown",
      "metadata": {
        "id": "w97k7hsjOrfk"
      },
      "source": [
        "### Random Numbers"
      ]
    },
    {
      "cell_type": "code",
      "execution_count": 102,
      "metadata": {
        "colab": {
          "base_uri": "https://localhost:8080/"
        },
        "id": "I8YDmJuENvda",
        "outputId": "bb1fe3de-ecfd-4fa4-c038-deca46ed2b7a"
      },
      "outputs": [
        {
          "data": {
            "text/plain": [
              "array([[0.67485015, 0.42229856, 0.98348739],\n",
              "       [0.01204425, 0.90966669, 0.70587384]])"
            ]
          },
          "execution_count": 102,
          "metadata": {},
          "output_type": "execute_result"
        }
      ],
      "source": [
        "arr_rand = np.random.rand(2, 3)  # Uniform distribution (0, 1)\n",
        "arr_rand"
      ]
    },
    {
      "cell_type": "code",
      "execution_count": 103,
      "metadata": {
        "colab": {
          "base_uri": "https://localhost:8080/"
        },
        "id": "4F388-EDNvda",
        "outputId": "acc75814-6ebf-4e61-db23-6102fa2b0534"
      },
      "outputs": [
        {
          "data": {
            "text/plain": [
              "array([[ 0.74664931, -0.14473226,  0.11518257],\n",
              "       [-1.03882137,  1.94984805,  1.95339008]])"
            ]
          },
          "execution_count": 103,
          "metadata": {},
          "output_type": "execute_result"
        }
      ],
      "source": [
        "arr_randn = np.random.randn(2, 3)  # Standard normal distribution\n",
        "arr_randn"
      ]
    },
    {
      "cell_type": "code",
      "execution_count": 104,
      "metadata": {
        "colab": {
          "base_uri": "https://localhost:8080/"
        },
        "id": "PsvPCjulNvda",
        "outputId": "91378d1a-112e-42e5-fd3f-34d9643ef411"
      },
      "outputs": [
        {
          "data": {
            "text/plain": [
              "array([[4, 7, 8],\n",
              "       [9, 8, 8]])"
            ]
          },
          "execution_count": 104,
          "metadata": {},
          "output_type": "execute_result"
        }
      ],
      "source": [
        "arr_randint = np.random.randint(0, 10, size=(2, 3))  # Random integers between 0 and 9\n",
        "arr_randint"
      ]
    },
    {
      "cell_type": "markdown",
      "metadata": {
        "id": "0WSVw9_9Nvda"
      },
      "source": [
        "### Random Permutations"
      ]
    },
    {
      "cell_type": "code",
      "execution_count": 105,
      "metadata": {
        "colab": {
          "base_uri": "https://localhost:8080/"
        },
        "id": "gsf_Hp5oNvda",
        "outputId": "ef05e915-780d-465d-e408-125bf0f9f274"
      },
      "outputs": [
        {
          "data": {
            "text/plain": [
              "array([2, 3, 1])"
            ]
          },
          "execution_count": 105,
          "metadata": {},
          "output_type": "execute_result"
        }
      ],
      "source": [
        "arr_perm = np.random.permutation(arr1)  # Randomly permute an array\n",
        "arr_perm"
      ]
    },
    {
      "cell_type": "markdown",
      "metadata": {
        "id": "b64TTb0PNvda"
      },
      "source": [
        "### Sampling and Distributions"
      ]
    },
    {
      "cell_type": "code",
      "execution_count": 106,
      "metadata": {
        "colab": {
          "base_uri": "https://localhost:8080/"
        },
        "id": "2P1BAwF9Nvdb",
        "outputId": "04b78aaa-43ff-4f3e-e0bf-be68d4856f00"
      },
      "outputs": [
        {
          "data": {
            "text/plain": [
              "array([2, 3, 1])"
            ]
          },
          "execution_count": 106,
          "metadata": {},
          "output_type": "execute_result"
        }
      ],
      "source": [
        "arr_choice = np.random.choice(arr1, size=3, replace=False)  # Random sample without replacement\n",
        "arr_choice"
      ]
    },
    {
      "cell_type": "code",
      "execution_count": 107,
      "metadata": {
        "colab": {
          "base_uri": "https://localhost:8080/"
        },
        "id": "-33SDVO_Nvdb",
        "outputId": "74b0264c-1224-41c9-a914-44786f18a85d"
      },
      "outputs": [
        {
          "data": {
            "text/plain": [
              "array([4, 4, 1, 5, 6, 7, 3, 7, 6, 7])"
            ]
          },
          "execution_count": 107,
          "metadata": {},
          "output_type": "execute_result"
        }
      ],
      "source": [
        "arr_binomial = np.random.binomial(n=10, p=0.5, size=10)  # Binomial distribution\n",
        "arr_binomial"
      ]
    },
    {
      "cell_type": "code",
      "execution_count": 108,
      "metadata": {
        "colab": {
          "base_uri": "https://localhost:8080/"
        },
        "id": "-hIDtGBENvdb",
        "outputId": "2b3cafc5-6bba-46ae-d418-8128256fae10"
      },
      "outputs": [
        {
          "data": {
            "text/plain": [
              "array([2, 6, 2, 3, 1, 1, 2, 3, 2, 5])"
            ]
          },
          "execution_count": 108,
          "metadata": {},
          "output_type": "execute_result"
        }
      ],
      "source": [
        "arr_poisson = np.random.poisson(lam=3, size=10)  # Poisson distribution\n",
        "arr_poisson"
      ]
    },
    {
      "cell_type": "markdown",
      "metadata": {
        "id": "tfGgNIHwNvdb"
      },
      "source": [
        "### Setting Seed"
      ]
    },
    {
      "cell_type": "code",
      "execution_count": 109,
      "metadata": {
        "colab": {
          "base_uri": "https://localhost:8080/"
        },
        "id": "dkq1-R9VNvdb",
        "outputId": "d3fce7ad-024a-4b52-8ca6-7854aeb03c72"
      },
      "outputs": [
        {
          "data": {
            "text/plain": [
              "array([[0.37454012, 0.95071431, 0.73199394],\n",
              "       [0.59865848, 0.15601864, 0.15599452]])"
            ]
          },
          "execution_count": 109,
          "metadata": {},
          "output_type": "execute_result"
        }
      ],
      "source": [
        "np.random.seed(42)  # Set random seed for reproducibility\n",
        "arr_rand_seed = np.random.rand(2, 3)\n",
        "arr_rand_seed"
      ]
    },
    {
      "cell_type": "markdown",
      "metadata": {
        "id": "CEK4_uB4Nvdb"
      },
      "source": [
        "## I/O with NumPy\n"
      ]
    },
    {
      "cell_type": "markdown",
      "metadata": {
        "id": "kRgczl50OuAg"
      },
      "source": [
        "### Reading and Writing Files"
      ]
    },
    {
      "cell_type": "code",
      "execution_count": 110,
      "metadata": {
        "colab": {
          "base_uri": "https://localhost:8080/"
        },
        "id": "O8ojvy7vNvdb",
        "outputId": "86f4d83b-d137-402f-fb64-666e938ce4bd"
      },
      "outputs": [
        {
          "data": {
            "text/plain": [
              "array([1, 2, 3])"
            ]
          },
          "execution_count": 110,
          "metadata": {},
          "output_type": "execute_result"
        }
      ],
      "source": [
        "np.save('array.npy', arr1)  # Save array to binary file\n",
        "arr_loaded = np.load('array.npy')  # Load array from binary file\n",
        "arr_loaded"
      ]
    },
    {
      "cell_type": "code",
      "execution_count": 111,
      "metadata": {
        "colab": {
          "base_uri": "https://localhost:8080/"
        },
        "id": "ilGDn_hoNvdb",
        "outputId": "1cdbe738-8981-4908-ec16-21b435a0b7b6"
      },
      "outputs": [
        {
          "data": {
            "text/plain": [
              "array([1., 2., 3.])"
            ]
          },
          "execution_count": 111,
          "metadata": {},
          "output_type": "execute_result"
        }
      ],
      "source": [
        "np.savetxt('array.txt', arr1)  # Save array to text file\n",
        "arr_loaded_txt = np.loadtxt('array.txt')  # Load array from text file\n",
        "arr_loaded_txt"
      ]
    },
    {
      "cell_type": "markdown",
      "metadata": {
        "id": "PpoXhrdyNvdb"
      },
      "source": [
        "### Saving and Loading Multiple Arrays"
      ]
    },
    {
      "cell_type": "code",
      "execution_count": 112,
      "metadata": {
        "colab": {
          "base_uri": "https://localhost:8080/"
        },
        "id": "DZlNNJMCNvdb",
        "outputId": "39b6d36b-5f05-4c1f-d46f-441f6e91918b"
      },
      "outputs": [
        {
          "data": {
            "text/plain": [
              "(array([1, 2, 3]), array([1, 2, 3]))"
            ]
          },
          "execution_count": 112,
          "metadata": {},
          "output_type": "execute_result"
        }
      ],
      "source": [
        "np.savez('arrays.npz', arr1=arr1, arr2=arr2)  # Save multiple arrays to a compressed file\n",
        "npzfile = np.load('arrays.npz')\n",
        "npzfile['arr1'], npzfile['arr2']"
      ]
    },
    {
      "cell_type": "markdown",
      "metadata": {
        "id": "EUx9s_EWNvdb"
      },
      "source": [
        "### Reading and Writing CSV Files"
      ]
    },
    {
      "cell_type": "code",
      "execution_count": 113,
      "metadata": {
        "colab": {
          "base_uri": "https://localhost:8080/"
        },
        "id": "6w4RfBqZOL1i",
        "outputId": "7f2979ec-608c-430d-ca62-5719da10886f"
      },
      "outputs": [
        {
          "data": {
            "text/plain": [
              "array([1, 2, 3])"
            ]
          },
          "execution_count": 113,
          "metadata": {},
          "output_type": "execute_result"
        }
      ],
      "source": [
        "arr1"
      ]
    },
    {
      "cell_type": "code",
      "execution_count": 114,
      "metadata": {
        "id": "I-q7GPlRNvdb"
      },
      "outputs": [],
      "source": [
        "np.savetxt('data.csv', arr1, delimiter=',')  # Save data to CSV file"
      ]
    },
    {
      "cell_type": "code",
      "execution_count": 115,
      "metadata": {
        "colab": {
          "base_uri": "https://localhost:8080/"
        },
        "id": "xxroQD1rNvdb",
        "outputId": "2503f71d-2aae-407d-d5cd-0de0d8fbf13a"
      },
      "outputs": [
        {
          "data": {
            "text/plain": [
              "array([1., 2., 3.])"
            ]
          },
          "execution_count": 115,
          "metadata": {},
          "output_type": "execute_result"
        }
      ],
      "source": [
        "arr_csv = np.genfromtxt('data.csv', delimiter=',')  # Load data from CSV file\n",
        "arr_csv"
      ]
    },
    {
      "cell_type": "markdown",
      "metadata": {
        "id": "HVcJYmtINvdb"
      },
      "source": [
        "## Polynomials\n"
      ]
    },
    {
      "cell_type": "markdown",
      "metadata": {
        "id": "RT9l2-kjOwWf"
      },
      "source": [
        "### Polynomial Operations"
      ]
    },
    {
      "cell_type": "code",
      "execution_count": 116,
      "metadata": {
        "colab": {
          "base_uri": "https://localhost:8080/"
        },
        "id": "ABabUoeQNvdb",
        "outputId": "0fd444c1-bf03-4714-a115-c5a3c0cfb78e"
      },
      "outputs": [
        {
          "data": {
            "text/plain": [
              "11"
            ]
          },
          "execution_count": 116,
          "metadata": {},
          "output_type": "execute_result"
        }
      ],
      "source": [
        "p = np.poly1d([1, 2, 3])  # Define a polynomial p(x) = 1x^2 + 2x + 3\n",
        "p(2)  # Evaluate polynomial at x = 2"
      ]
    },
    {
      "cell_type": "code",
      "execution_count": 117,
      "metadata": {
        "colab": {
          "base_uri": "https://localhost:8080/"
        },
        "id": "ooGLwVKrNvdb",
        "outputId": "779330a7-1f9f-4b66-8d9b-2e566a5edad4"
      },
      "outputs": [
        {
          "data": {
            "text/plain": [
              "array([-1.+1.41421356j, -1.-1.41421356j])"
            ]
          },
          "execution_count": 117,
          "metadata": {},
          "output_type": "execute_result"
        }
      ],
      "source": [
        "p.roots  # Find roots of the polynomial"
      ]
    },
    {
      "cell_type": "markdown",
      "metadata": {
        "id": "2RRLjMKLNvdb"
      },
      "source": [
        "### Polynomial Fitting"
      ]
    },
    {
      "cell_type": "code",
      "execution_count": 118,
      "metadata": {
        "colab": {
          "base_uri": "https://localhost:8080/"
        },
        "id": "k9OcQvoRNvdc",
        "outputId": "3124a1ba-2666-4d0a-c3ce-8a4ad80a39c4"
      },
      "outputs": [
        {
          "data": {
            "text/plain": [
              "array([ 1.00000000e+00, -6.00566855e-15,  9.41435428e-15])"
            ]
          },
          "execution_count": 118,
          "metadata": {},
          "output_type": "execute_result"
        }
      ],
      "source": [
        "x = np.array([1, 2, 3, 4])\n",
        "y = np.array([1, 4, 9, 16])\n",
        "p_fit = np.polyfit(x, y, deg=2)  # Fit a polynomial of degree 2 to data points (x, y)\n",
        "p_fit"
      ]
    },
    {
      "cell_type": "markdown",
      "metadata": {
        "id": "wLgYPS_NNvdc"
      },
      "source": [
        "### Polynomial Derivatives and Integrals"
      ]
    },
    {
      "cell_type": "code",
      "execution_count": 119,
      "metadata": {
        "colab": {
          "base_uri": "https://localhost:8080/"
        },
        "id": "7Q_BDnhZNvdc",
        "outputId": "d59f1881-4f48-453a-d1d7-d4bad15d1dc6"
      },
      "outputs": [
        {
          "data": {
            "text/plain": [
              "poly1d([2, 2])"
            ]
          },
          "execution_count": 119,
          "metadata": {},
          "output_type": "execute_result"
        }
      ],
      "source": [
        "p_deriv = p.deriv()  # Derivative of the polynomial\n",
        "p_deriv"
      ]
    },
    {
      "cell_type": "code",
      "execution_count": 120,
      "metadata": {
        "colab": {
          "base_uri": "https://localhost:8080/"
        },
        "id": "4jkbrCIsNvdc",
        "outputId": "3b568e18-75d0-4aed-9833-1a07d03d9dbf"
      },
      "outputs": [
        {
          "data": {
            "text/plain": [
              "poly1d([0.33333333, 1.        , 3.        , 0.        ])"
            ]
          },
          "execution_count": 120,
          "metadata": {},
          "output_type": "execute_result"
        }
      ],
      "source": [
        "p_integ = p.integ()  # Integral of the polynomial\n",
        "p_integ"
      ]
    },
    {
      "cell_type": "markdown",
      "metadata": {
        "id": "-RFkLfPONvdc"
      },
      "source": [
        "## Advanced Array Operations\n"
      ]
    },
    {
      "cell_type": "markdown",
      "metadata": {
        "id": "w4Ewrzy6OycE"
      },
      "source": [
        "### Vectorize Functions"
      ]
    },
    {
      "cell_type": "code",
      "execution_count": 121,
      "metadata": {
        "colab": {
          "base_uri": "https://localhost:8080/"
        },
        "id": "n-MS32XqNvdc",
        "outputId": "f9be9f51-f2d1-45b9-8742-f53cf96ba156"
      },
      "outputs": [
        {
          "data": {
            "text/plain": [
              "array([6, 7, 8])"
            ]
          },
          "execution_count": 121,
          "metadata": {},
          "output_type": "execute_result"
        }
      ],
      "source": [
        "def add_five(x):\n",
        "    return x + 5\n",
        "\n",
        "vectorized_func = np.vectorize(add_five)  # Apply a function element-wise to an array\n",
        "vectorized_func(arr1)"
      ]
    },
    {
      "cell_type": "markdown",
      "metadata": {
        "id": "kZ34hZHJNvdc"
      },
      "source": [
        "### Meshgrid"
      ]
    },
    {
      "cell_type": "code",
      "execution_count": 122,
      "metadata": {
        "colab": {
          "base_uri": "https://localhost:8080/"
        },
        "id": "4VNe29SfNvdc",
        "outputId": "29a0cc0f-4c3c-49ab-bca2-1fce93f0e91d"
      },
      "outputs": [
        {
          "data": {
            "text/plain": [
              "(array([[1, 2, 3],\n",
              "        [1, 2, 3],\n",
              "        [1, 2, 3]]),\n",
              " array([[4, 4, 4],\n",
              "        [5, 5, 5],\n",
              "        [6, 6, 6]]))"
            ]
          },
          "execution_count": 122,
          "metadata": {},
          "output_type": "execute_result"
        }
      ],
      "source": [
        "x = np.array([1, 2, 3])\n",
        "y = np.array([4, 5, 6])\n",
        "X, Y = np.meshgrid(x, y)  # Create a coordinate grid from 1D arrays x and y\n",
        "X, Y"
      ]
    },
    {
      "cell_type": "markdown",
      "metadata": {
        "id": "W3bmMDpuNvdc"
      },
      "source": [
        "### Broadcasting with Advanced Indexing"
      ]
    },
    {
      "cell_type": "code",
      "execution_count": 123,
      "metadata": {
        "colab": {
          "base_uri": "https://localhost:8080/"
        },
        "id": "HFHu2-fjNvdc",
        "outputId": "c1f42b8a-ba05-4806-8ef4-a6ee1e03a2dd"
      },
      "outputs": [
        {
          "data": {
            "text/plain": [
              "array([6, 7, 3])"
            ]
          },
          "execution_count": 123,
          "metadata": {},
          "output_type": "execute_result"
        }
      ],
      "source": [
        "arr_add_at = np.array([1, 2, 3])\n",
        "np.add.at(arr_add_at, [0, 1], 5)  # Increment elements at indices `idx` by 5\n",
        "arr_add_at"
      ]
    },
    {
      "cell_type": "markdown",
      "metadata": {
        "id": "PaKt_qlJNvdc"
      },
      "source": [
        "### Sorting Arrays"
      ]
    },
    {
      "cell_type": "code",
      "execution_count": 124,
      "metadata": {
        "colab": {
          "base_uri": "https://localhost:8080/"
        },
        "id": "ICYetgVqNvdc",
        "outputId": "6921a5bc-921c-49fd-954d-c2d7bd94320e"
      },
      "outputs": [
        {
          "data": {
            "text/plain": [
              "array([1, 2, 3])"
            ]
          },
          "execution_count": 124,
          "metadata": {},
          "output_type": "execute_result"
        }
      ],
      "source": [
        "arr_sorted = np.sort(arr1)  # Sort array\n",
        "arr_sorted"
      ]
    },
    {
      "cell_type": "code",
      "execution_count": 125,
      "metadata": {
        "colab": {
          "base_uri": "https://localhost:8080/"
        },
        "id": "9mEYMJcYNvdc",
        "outputId": "03a426f0-cc78-4aee-e1b1-e4102bd78091"
      },
      "outputs": [
        {
          "data": {
            "text/plain": [
              "array([0, 1, 2])"
            ]
          },
          "execution_count": 125,
          "metadata": {},
          "output_type": "execute_result"
        }
      ],
      "source": [
        "arr_argsort = np.argsort(arr1)  # Indices of the sorted array\n",
        "arr_argsort"
      ]
    },
    {
      "cell_type": "markdown",
      "metadata": {
        "id": "RQipo5guNvdc"
      },
      "source": [
        "### Searching and Counting Elements"
      ]
    },
    {
      "cell_type": "code",
      "execution_count": 126,
      "metadata": {
        "colab": {
          "base_uri": "https://localhost:8080/"
        },
        "id": "Y01SAcgwNvdc",
        "outputId": "1a55b16a-6961-47ba-8067-6007697ad905"
      },
      "outputs": [
        {
          "data": {
            "text/plain": [
              "(array([2]),)"
            ]
          },
          "execution_count": 126,
          "metadata": {},
          "output_type": "execute_result"
        }
      ],
      "source": [
        "arr_where_condition = np.where(arr1 > 2)  # Indices where the condition is met\n",
        "arr_where_condition"
      ]
    },
    {
      "cell_type": "code",
      "execution_count": 127,
      "metadata": {
        "colab": {
          "base_uri": "https://localhost:8080/"
        },
        "id": "ofk6WIyZNvdc",
        "outputId": "814cdc7f-b5db-4086-db93-e656cf3d2653"
      },
      "outputs": [
        {
          "data": {
            "text/plain": [
              "3"
            ]
          },
          "execution_count": 127,
          "metadata": {},
          "output_type": "execute_result"
        }
      ],
      "source": [
        "arr_count_nonzero = np.count_nonzero(arr1)  # Count non-zero elements\n",
        "arr_count_nonzero"
      ]
    },
    {
      "cell_type": "markdown",
      "metadata": {
        "id": "qYC3VVfbNvdc"
      },
      "source": [
        "## Memory Management\n"
      ]
    },
    {
      "cell_type": "markdown",
      "metadata": {
        "id": "LTNAlm-DO1GX"
      },
      "source": [
        "### Memory Layout and Optimization"
      ]
    },
    {
      "cell_type": "code",
      "execution_count": 128,
      "metadata": {
        "colab": {
          "base_uri": "https://localhost:8080/"
        },
        "id": "tUcTk-SMNvdc",
        "outputId": "73cf79e3-9c40-4e7d-a5fe-3022c86779d9"
      },
      "outputs": [
        {
          "data": {
            "text/plain": [
              "  C_CONTIGUOUS : True\n",
              "  F_CONTIGUOUS : True\n",
              "  OWNDATA : True\n",
              "  WRITEABLE : True\n",
              "  ALIGNED : True\n",
              "  WRITEBACKIFCOPY : False"
            ]
          },
          "execution_count": 128,
          "metadata": {},
          "output_type": "execute_result"
        }
      ],
      "source": [
        "arr_flags = arr1.flags  # Check memory layout (C_CONTIGUOUS, F_CONTIGUOUS)\n",
        "arr_flags"
      ]
    },
    {
      "cell_type": "code",
      "execution_count": 129,
      "metadata": {
        "colab": {
          "base_uri": "https://localhost:8080/"
        },
        "id": "FxFyzFpoNvdc",
        "outputId": "cea4a82c-9174-4bfc-b149-023b71b1242f"
      },
      "outputs": [
        {
          "data": {
            "text/plain": [
              "  C_CONTIGUOUS : True\n",
              "  F_CONTIGUOUS : True\n",
              "  OWNDATA : True\n",
              "  WRITEABLE : True\n",
              "  ALIGNED : True\n",
              "  WRITEBACKIFCOPY : False"
            ]
          },
          "execution_count": 129,
          "metadata": {},
          "output_type": "execute_result"
        }
      ],
      "source": [
        "arr_contig = np.ascontiguousarray(arr1)  # Convert to C-contiguous array\n",
        "arr_contig.flags"
      ]
    },
    {
      "cell_type": "markdown",
      "metadata": {
        "id": "k6PSeXKVNvdc"
      },
      "source": [
        "### Memory Mapping Files"
      ]
    },
    {
      "cell_type": "code",
      "execution_count": 130,
      "metadata": {
        "colab": {
          "base_uri": "https://localhost:8080/"
        },
        "id": "WnHZAMvQNvdc",
        "outputId": "3b19b97b-9d7f-4f3c-f46c-2c51ba9e9c11"
      },
      "outputs": [
        {
          "data": {
            "text/plain": [
              "memmap([[0., 0., 0.],\n",
              "        [0., 0., 0.],\n",
              "        [0., 0., 0.]], dtype=float32)"
            ]
          },
          "execution_count": 130,
          "metadata": {},
          "output_type": "execute_result"
        }
      ],
      "source": [
        "memmap_arr = np.memmap('data.dat', dtype='float32', mode='w+', shape=(3, 3))  # Memory-mapped file\n",
        "memmap_arr"
      ]
    },
    {
      "cell_type": "markdown",
      "metadata": {
        "id": "9psMGiKKNvdc"
      },
      "source": [
        "### Copying and Views"
      ]
    },
    {
      "cell_type": "code",
      "execution_count": 131,
      "metadata": {
        "colab": {
          "base_uri": "https://localhost:8080/"
        },
        "id": "kftF6P2VNvdd",
        "outputId": "d4deba2d-b96c-4c2e-89af-2a18522fb401"
      },
      "outputs": [
        {
          "data": {
            "text/plain": [
              "array([1, 2, 3])"
            ]
          },
          "execution_count": 131,
          "metadata": {},
          "output_type": "execute_result"
        }
      ],
      "source": [
        "arr_copy = arr1.copy()  # Create a deep copy of the array\n",
        "arr_copy"
      ]
    },
    {
      "cell_type": "code",
      "execution_count": 132,
      "metadata": {
        "colab": {
          "base_uri": "https://localhost:8080/"
        },
        "id": "2LAKAC1dNvdd",
        "outputId": "5849b3c9-88e0-40a6-bc6f-2264437eb434"
      },
      "outputs": [
        {
          "data": {
            "text/plain": [
              "array([1, 2, 3])"
            ]
          },
          "execution_count": 132,
          "metadata": {},
          "output_type": "execute_result"
        }
      ],
      "source": [
        "arr_view = arr1.view()  # Create a view of the array (shallow copy)\n",
        "arr_view"
      ]
    },
    {
      "cell_type": "markdown",
      "metadata": {
        "id": "KexeQR30Nvdd"
      },
      "source": [
        "## Advanced Indexing\n"
      ]
    },
    {
      "cell_type": "markdown",
      "metadata": {
        "id": "2eCBQPBBO5oM"
      },
      "source": [
        "### Using `np.take` and `np.put`"
      ]
    },
    {
      "cell_type": "code",
      "execution_count": 133,
      "metadata": {
        "colab": {
          "base_uri": "https://localhost:8080/"
        },
        "id": "wyFVyWcmNvdd",
        "outputId": "4f56871d-1dde-49e1-bd50-660d2d18e08e"
      },
      "outputs": [
        {
          "data": {
            "text/plain": [
              "array([1, 3])"
            ]
          },
          "execution_count": 133,
          "metadata": {},
          "output_type": "execute_result"
        }
      ],
      "source": [
        "arr_take = np.take(arr1, [0, 2])  # Take elements at indices 0 and 2\n",
        "arr_take"
      ]
    },
    {
      "cell_type": "code",
      "execution_count": 134,
      "metadata": {
        "colab": {
          "base_uri": "https://localhost:8080/"
        },
        "id": "XKsWNteYNvdd",
        "outputId": "db9560f6-4e4a-4e63-e46c-a34c2c997030"
      },
      "outputs": [
        {
          "data": {
            "text/plain": [
              "array([-1,  2, -2])"
            ]
          },
          "execution_count": 134,
          "metadata": {},
          "output_type": "execute_result"
        }
      ],
      "source": [
        "arr_put = arr1.copy()\n",
        "np.put(arr_put, [0, 2], [-1, -2])  # Set elements at indices 0 and 2\n",
        "arr_put"
      ]
    },
    {
      "cell_type": "markdown",
      "metadata": {
        "id": "2FYXs6U_Nvdd"
      },
      "source": [
        "### Using `np.choose`\n",
        "\n",
        "`np.choose(a,c) == np.array([c[a[I]][I] for I in ndi.ndindex(a.shape)])`"
      ]
    },
    {
      "cell_type": "code",
      "execution_count": 135,
      "metadata": {
        "colab": {
          "base_uri": "https://localhost:8080/"
        },
        "id": "rtl-eqV0Nvdd",
        "outputId": "2e4d685e-bde0-48a8-ade7-37706c08dcfe"
      },
      "outputs": [
        {
          "data": {
            "text/plain": [
              "array([1, 2])"
            ]
          },
          "execution_count": 135,
          "metadata": {},
          "output_type": "execute_result"
        }
      ],
      "source": [
        "arr_choose = np.choose([0, 1], arr1)  # Construct an array from elements chosen from `arr1`\n",
        "arr_choose"
      ]
    },
    {
      "cell_type": "markdown",
      "metadata": {
        "id": "bYr_wpq-Nvdd"
      },
      "source": [
        "### Using `np.lexsort`"
      ]
    },
    {
      "cell_type": "code",
      "execution_count": 136,
      "metadata": {
        "colab": {
          "base_uri": "https://localhost:8080/"
        },
        "id": "1L4rHV-FNvdd",
        "outputId": "b151e466-44de-4867-c077-5d62f9253343"
      },
      "outputs": [
        {
          "data": {
            "text/plain": [
              "array([0, 1, 2])"
            ]
          },
          "execution_count": 136,
          "metadata": {},
          "output_type": "execute_result"
        }
      ],
      "source": [
        "arr_lexsort = np.lexsort((arr2, arr1))  # Sort by `arr1`, then by `arr2`\n",
        "arr_lexsort"
      ]
    },
    {
      "cell_type": "markdown",
      "metadata": {
        "id": "yCAHC4uaNvdd"
      },
      "source": [
        "## Matrix Operations\n"
      ]
    },
    {
      "cell_type": "markdown",
      "metadata": {
        "id": "jVEwgsmgPMbn"
      },
      "source": [
        "### Determinant, Rank, and Trace"
      ]
    },
    {
      "cell_type": "code",
      "execution_count": 137,
      "metadata": {
        "colab": {
          "base_uri": "https://localhost:8080/"
        },
        "id": "sf0wU9xENvdd",
        "outputId": "ead3d3e4-d8f5-4190-c230-ceb57dfb4c70"
      },
      "outputs": [
        {
          "data": {
            "text/plain": [
              "5.000000000000001"
            ]
          },
          "execution_count": 137,
          "metadata": {},
          "output_type": "execute_result"
        }
      ],
      "source": [
        "arr_determinant = np.linalg.det(A)  # Determinant of a matrix\n",
        "arr_determinant"
      ]
    },
    {
      "cell_type": "code",
      "execution_count": 138,
      "metadata": {
        "colab": {
          "base_uri": "https://localhost:8080/"
        },
        "id": "DwJ93kbHNvdd",
        "outputId": "2ad03d2b-2204-444b-d34c-5f80a1497c56"
      },
      "outputs": [
        {
          "data": {
            "text/plain": [
              "2"
            ]
          },
          "execution_count": 138,
          "metadata": {},
          "output_type": "execute_result"
        }
      ],
      "source": [
        "arr_rank = np.linalg.matrix_rank(A)  # Rank of a matrix\n",
        "arr_rank"
      ]
    },
    {
      "cell_type": "code",
      "execution_count": 139,
      "metadata": {
        "colab": {
          "base_uri": "https://localhost:8080/"
        },
        "id": "Aw8g3eZjNvdd",
        "outputId": "0e234a5b-154b-4ed6-e0c0-ee0866a00f68"
      },
      "outputs": [
        {
          "data": {
            "text/plain": [
              "5"
            ]
          },
          "execution_count": 139,
          "metadata": {},
          "output_type": "execute_result"
        }
      ],
      "source": [
        "arr_trace = np.trace(A)  # Sum of diagonal elements (trace)\n",
        "arr_trace"
      ]
    },
    {
      "cell_type": "markdown",
      "metadata": {
        "id": "Ru-kowZlNvdd"
      },
      "source": [
        "### Kronecker Product and Outer Product"
      ]
    },
    {
      "cell_type": "code",
      "execution_count": 140,
      "metadata": {
        "colab": {
          "base_uri": "https://localhost:8080/"
        },
        "id": "YqDjY1DpNvdd",
        "outputId": "b4fee06c-ae40-4b54-cc27-8f0fb8267f8a"
      },
      "outputs": [
        {
          "data": {
            "text/plain": [
              "array([1, 2, 3, 2, 4, 6, 3, 6, 9])"
            ]
          },
          "execution_count": 140,
          "metadata": {},
          "output_type": "execute_result"
        }
      ],
      "source": [
        "arr_kron = np.kron(arr1, arr2)  # Kronecker product of two arrays\n",
        "arr_kron"
      ]
    },
    {
      "cell_type": "code",
      "execution_count": 141,
      "metadata": {
        "colab": {
          "base_uri": "https://localhost:8080/"
        },
        "id": "4j9cY-A5Nvdd",
        "outputId": "aa1fe1d9-dace-4c77-ef52-7c6f6dae5221"
      },
      "outputs": [
        {
          "data": {
            "text/plain": [
              "array([[1, 2, 3],\n",
              "       [2, 4, 6],\n",
              "       [3, 6, 9]])"
            ]
          },
          "execution_count": 141,
          "metadata": {},
          "output_type": "execute_result"
        }
      ],
      "source": [
        "arr_outer = np.outer(arr1, arr2)  # Outer product of two arrays\n",
        "arr_outer"
      ]
    },
    {
      "cell_type": "markdown",
      "metadata": {
        "id": "MaD5cgELNvdd"
      },
      "source": [
        "### Solving Systems of Linear Equations"
      ]
    },
    {
      "cell_type": "code",
      "execution_count": 142,
      "metadata": {
        "colab": {
          "base_uri": "https://localhost:8080/"
        },
        "id": "iuI8opLgNvdd",
        "outputId": "7b8ae940-1c02-4f99-bb38-f603104d5d3b"
      },
      "outputs": [
        {
          "data": {
            "text/plain": [
              "array([2., 3.])"
            ]
          },
          "execution_count": 142,
          "metadata": {},
          "output_type": "execute_result"
        }
      ],
      "source": [
        "arr_solve = np.linalg.solve(A, b)  # Solve Ax = b for x\n",
        "arr_solve"
      ]
    },
    {
      "cell_type": "code",
      "execution_count": 143,
      "metadata": {
        "colab": {
          "base_uri": "https://localhost:8080/"
        },
        "id": "cNZw9vG0Nvdd",
        "outputId": "715843f1-c5bd-422d-ac44-68415ea7b0a1"
      },
      "outputs": [
        {
          "data": {
            "text/plain": [
              "array([2., 3.])"
            ]
          },
          "execution_count": 143,
          "metadata": {},
          "output_type": "execute_result"
        }
      ],
      "source": [
        "arr_lstsq = np.linalg.lstsq(A, b, rcond=None)  # Solve Ax = b using least squares\n",
        "arr_lstsq[0]"
      ]
    },
    {
      "cell_type": "markdown",
      "metadata": {
        "id": "b8ovdrK_Nvde"
      },
      "source": [
        "## Data Types\n"
      ]
    },
    {
      "cell_type": "markdown",
      "metadata": {
        "id": "GdTdQqWYPP92"
      },
      "source": [
        "### Specifying Data Types"
      ]
    },
    {
      "cell_type": "code",
      "execution_count": 144,
      "metadata": {
        "colab": {
          "base_uri": "https://localhost:8080/"
        },
        "id": "uTLUjnD4Nvde",
        "outputId": "ec547649-e094-4171-bec3-4d2a1f5d6497"
      },
      "outputs": [
        {
          "data": {
            "text/plain": [
              "array([1., 2., 3.], dtype=float32)"
            ]
          },
          "execution_count": 144,
          "metadata": {},
          "output_type": "execute_result"
        }
      ],
      "source": [
        "arr_dtype = np.array([1, 2, 3], dtype=np.float32)  # Specify data type\n",
        "arr_dtype"
      ]
    },
    {
      "cell_type": "markdown",
      "metadata": {
        "id": "AOsQ96d7Nvde"
      },
      "source": [
        "### Converting Data Types"
      ]
    },
    {
      "cell_type": "code",
      "execution_count": 145,
      "metadata": {
        "colab": {
          "base_uri": "https://localhost:8080/"
        },
        "id": "-lKL71ZNNvde",
        "outputId": "a42a8137-7faa-4a4f-889b-fd565be031b5"
      },
      "outputs": [
        {
          "data": {
            "text/plain": [
              "array([1, 2, 3], dtype=int32)"
            ]
          },
          "execution_count": 145,
          "metadata": {},
          "output_type": "execute_result"
        }
      ],
      "source": [
        "arr_converted_dtype = arr1.astype(np.int32)  # Convert array to specified data type\n",
        "arr_converted_dtype"
      ]
    },
    {
      "cell_type": "markdown",
      "metadata": {
        "id": "Ld71HyGTNvde"
      },
      "source": [
        "### Complex Data Types"
      ]
    },
    {
      "cell_type": "code",
      "execution_count": 146,
      "metadata": {
        "colab": {
          "base_uri": "https://localhost:8080/"
        },
        "id": "1pny3pNhNvde",
        "outputId": "20f7a8d9-94bc-425e-aaa9-4154cb7f8038"
      },
      "outputs": [
        {
          "data": {
            "text/plain": [
              "array([1.+2.j, 3.+4.j], dtype=complex64)"
            ]
          },
          "execution_count": 146,
          "metadata": {},
          "output_type": "execute_result"
        }
      ],
      "source": [
        "arr_complex = np.array([1+2j, 3+4j], dtype=np.complex64)  # Complex data type\n",
        "arr_complex"
      ]
    },
    {
      "cell_type": "markdown",
      "metadata": {
        "id": "GqNhBZyINvde"
      },
      "source": [
        "### Checking Data Types"
      ]
    },
    {
      "cell_type": "code",
      "execution_count": 147,
      "metadata": {
        "colab": {
          "base_uri": "https://localhost:8080/"
        },
        "id": "z9Uw9fAzNvde",
        "outputId": "967410da-6c6d-4ea2-9950-86d03e681f3b"
      },
      "outputs": [
        {
          "data": {
            "text/plain": [
              "dtype('complex64')"
            ]
          },
          "execution_count": 147,
          "metadata": {},
          "output_type": "execute_result"
        }
      ],
      "source": [
        "arr_dtype_check = arr_complex.dtype  # Check data type\n",
        "arr_dtype_check"
      ]
    },
    {
      "cell_type": "code",
      "execution_count": 148,
      "metadata": {
        "colab": {
          "base_uri": "https://localhost:8080/"
        },
        "id": "xgHZp50LNvde",
        "outputId": "1b745fa4-c5dc-4fba-967a-8ebd3ab9d0c7"
      },
      "outputs": [
        {
          "data": {
            "text/plain": [
              "True"
            ]
          },
          "execution_count": 148,
          "metadata": {},
          "output_type": "execute_result"
        }
      ],
      "source": [
        "np.issubdtype(arr_complex.dtype, np.number)  # Check if the data type is a subtype of `np.number`"
      ]
    }
  ],
  "metadata": {
    "colab": {
      "provenance": [],
      "toc_visible": true
    },
    "kernelspec": {
      "display_name": "Python 3",
      "language": "python",
      "name": "python3"
    },
    "language_info": {
      "codemirror_mode": {
        "name": "ipython",
        "version": 3
      },
      "file_extension": ".py",
      "mimetype": "text/x-python",
      "name": "python",
      "nbconvert_exporter": "python",
      "pygments_lexer": "ipython3",
      "version": "3.7.4"
    }
  },
  "nbformat": 4,
  "nbformat_minor": 0
}
